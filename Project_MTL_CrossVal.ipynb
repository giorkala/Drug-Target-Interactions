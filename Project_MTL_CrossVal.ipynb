{
 "cells": [
  {
   "cell_type": "markdown",
   "metadata": {},
   "source": [
    "## Train and evaluate the MTL model"
   ]
  },
  {
   "cell_type": "code",
   "execution_count": 1,
   "metadata": {},
   "outputs": [
    {
     "name": "stderr",
     "output_type": "stream",
     "text": [
      "Using TensorFlow backend.\n"
     ]
    }
   ],
   "source": [
    "import keras \n",
    "import keras.backend as K\n",
    "import numpy as np\n",
    "import pandas as pd\n",
    "from keras.models import Sequential\n",
    "from keras.layers import Dense\n",
    "from keras import regularizers\n",
    "from keras.wrappers.scikit_learn import KerasRegressor # this is for making a model like every other in scikit\n",
    "from sklearn.metrics import mean_squared_error as MSE\n",
    "from sklearn.metrics import mean_absolute_error as MAE\n",
    "from sklearn.metrics import r2_score\n",
    "from sklearn.preprocessing import StandardScaler\n",
    "from time import time\n",
    "import matplotlib.pyplot as plt\n",
    "\n",
    "from keras.models import Model\n",
    "from sklearn.model_selection import GridSearchCV\n",
    "\n",
    "np.random.seed(42)\n",
    "from tensorflow import set_random_seed\n",
    "set_random_seed(42)\n",
    "\n",
    "# import tensorflow as tf"
   ]
  },
  {
   "cell_type": "markdown",
   "metadata": {},
   "source": [
    "### Load data"
   ]
  },
  {
   "cell_type": "code",
   "execution_count": 2,
   "metadata": {},
   "outputs": [
    {
     "name": "stdout",
     "output_type": "stream",
     "text": [
      "There are 110 targets and 23167 compounds currently loaded with 56392 interactions.\n",
      "A DTI matrix would be 2.213% dense!\n",
      "New data: 4.395417284295644 | 2.588704763200101\n",
      "23167 fingerprints were loaded!\n",
      "The sizes for train and validation sets are 45114 and 11278 respectivelly\n"
     ]
    }
   ],
   "source": [
    "Interactions_train = []    \n",
    "with open(\"Interactions_Trainset.tab\",'r') as f:\n",
    "    for line in f:\n",
    "        tokens = line.split()\n",
    "        # 'Target-ID', 'Compound-ID', 'pIC50'  \n",
    "        Interactions_train.append( [tokens[0], tokens[1], float(tokens[2]) ])\n",
    "\n",
    "Interactions_valid = []        \n",
    "with open(\"Interactions_Validset.tab\",'r') as f:\n",
    "    for line in f:\n",
    "        tokens = line.split()\n",
    "        # 'Target-ID', 'Compound-ID', 'pIC50'  \n",
    "        Interactions_valid.append( [tokens[0], tokens[1], float(tokens[2]) ])\n",
    "\n",
    "Interactions = [x for x in Interactions_train]\n",
    "Interactions.extend(Interactions_valid)\n",
    "# we use a dataframe to quickly sort targets wrt #compounds:\n",
    "DF = pd.DataFrame( Interactions, columns =['Target-ID', 'Compound-ID','Std-value']) \n",
    "temp = DF.groupby(['Target-ID']).agg('count').sort_values(by='Compound-ID') # count the number of molecules\n",
    "Targets = list(temp.index)\n",
    "Compounds = np.unique(DF['Compound-ID'])\n",
    "del temp, DF\n",
    "\n",
    "nT=len(Targets); nC=len(Compounds)\n",
    "\n",
    "print(\"There are {0} targets and {1} compounds currently loaded with {2} interactions.\".format(nT,nC,len(Interactions)))\n",
    "print(\"A DTI matrix would be {0:.4}% dense!\".format(100.0*len(Interactions)/nT/nC ))\n",
    "\n",
    "Labels_Targ = dict()\n",
    "indx=0\n",
    "for x in Targets:\n",
    "    Labels_Targ[x]=indx\n",
    "    indx+=1\n",
    "    \n",
    "Labels_Comp = dict()\n",
    "indx=0\n",
    "for x in Compounds:\n",
    "    Labels_Comp[x]=indx\n",
    "    indx+=1\n",
    "\n",
    "# Initialize sparse matrix - this will be binary\n",
    "DTI = 10*np.ones((nC,nT),dtype=float)\n",
    "\n",
    "for edge in Interactions_train:\n",
    "    # each edge has \"target-compound-value-active\"\n",
    "    DTI[ Labels_Comp[edge[1]], Labels_Targ[edge[0]] ] = edge[2]\n",
    "\n",
    "values = [x[2] for x in Interactions]\n",
    "print(\"New data: {0} | {1}\".format(np.mean(values), np.std(values)))\n",
    "\n",
    "# load fingerprints and prepare as feature vectors\n",
    "Fingerprints={} # this contains one list per fingerprint - not efficient...\n",
    "with open('Compound_Fingerprints.tab', 'r') as f:\n",
    "    header = f.readline()\n",
    "    for line in f:\n",
    "        # each line is Comp-ID, SMILES, FP\n",
    "        tokens = line.split()\n",
    "        # we keep only those compounds which have FPs\n",
    "        if tokens[2] != 'NOFP':\n",
    "            fp = [int(c) for c in tokens[2] ]\n",
    "            Fingerprints[ tokens[0] ] = fp\n",
    "print(\"%d fingerprints were loaded!\" % len(Fingerprints))\n",
    "\n",
    "# split to train/test data\n",
    "random_seed = 2019\n",
    "np.random.seed(random_seed)\n",
    "\n",
    "\n",
    "print(\"The sizes for train and validation sets are {0} and {1} respectivelly\".format( len(Interactions_train), len(Interactions_valid) ))"
   ]
  },
  {
   "cell_type": "code",
   "execution_count": 3,
   "metadata": {},
   "outputs": [
    {
     "data": {
      "text/plain": [
       "(23167, 110)"
      ]
     },
     "execution_count": 3,
     "metadata": {},
     "output_type": "execute_result"
    }
   ],
   "source": [
    "def MTL(lamda=0.02, wsl=200, whl=20, lr=0.0001):\n",
    "    inputs = keras.Input(shape=(2048,))\n",
    "    sharedlayer = keras.layers.Dense(wsl, activation='tanh',kernel_regularizer=regularizers.l2(lamda) )(inputs) \n",
    "    myinit = keras.initializers.Constant(-4.)\n",
    "    hidden = []\n",
    "    for i in range(len(Targets)):\n",
    "        hl = Dense(units=whl,  activation='tanh', kernel_regularizer=regularizers.l2(lamda) )(sharedlayer)\n",
    "        hidden.append( Dense(1, kernel_initializer=myinit, activity_regularizer=regularizers.l1(0.0001) )(hl) )\n",
    "\n",
    "    MTL=Model(inputs=inputs, outputs=hidden)\n",
    "    MTL.compile(loss=masked_loss_function, optimizer=keras.optimizers.adam(lr=0.0001))\n",
    "    return MTL\n",
    "\n",
    "def masked_loss_function(y_true, y_pred, MissingVal=10):\n",
    "    # This function masks the elements of the vectors with true/predicted values so that the model focuses\n",
    "    # only on the known data. By default, missing values are represented by 10\n",
    "    mask = K.cast(K.not_equal(y_true, MissingVal), K.floatx())\n",
    "    return keras.losses.mean_squared_error(y_true * mask, y_pred * mask)\n",
    "\n",
    "def MTL_Drop( wsl, whl, drop_rate=0.1, lr=0.001):\n",
    "    # a function that creates a NN with dropout incorporated after the first hidden layer\n",
    "    inputs = keras.Input(shape=(2048,))\n",
    "    sharedlayer = keras.layers.Dense(wsl, activation='tanh' )(inputs) \n",
    "    dropout= keras.layers.Dropout(drop_rate)(sharedlayer, training=True)\n",
    "    myinit = keras.initializers.Constant(-4.)\n",
    "    hidden = []\n",
    "    for i in range(len(Targets)):\n",
    "        hl = Dense(units=whl,  activation='tanh', kernel_regularizer=regularizers.l2(0.05) )(dropout)\n",
    "        hidden.append( Dense(1, kernel_initializer=myinit, activity_regularizer=regularizers.l1(0.0001) )(hl) )\n",
    "\n",
    "    MTL=Model(inputs=inputs, outputs=hidden)\n",
    "    MTL.compile(loss=masked_loss_function, optimizer=keras.optimizers.adam(lr=lr), )  #metrics=[masked_r2]\n",
    "    return MTL\n",
    "\n",
    "from scipy.stats import sem\n",
    "from scipy.stats import t as tstat\n",
    "\n",
    "def mulpredict(model, x_test, Ntargets, N=10, conf_flag=False):\n",
    "    preds = np.zeros( (N, Ntargets) )\n",
    "    for i in range(N):\n",
    "        preds[i,:] = [ x[0][0] for x in model.predict( x_test ) ]\n",
    "    if conf_flag:\n",
    "        std_err = sem(preds, axis=0)\n",
    "        h = std_err * tstat.ppf((1 + 0.95) / 2, len(preds) - 1)\n",
    "        return np.mean(preds, axis=0), h\n",
    "        # we need the column-wise average of this matrix\n",
    "    else:\n",
    "        return np.mean(preds, axis=0) \n",
    "\n",
    "def Evaluate(Inter_list, Comp_list, Model, Fingerprints, Ntar=110, Niter=10):\n",
    "    Predictions = []\n",
    "    Percomp = {} # contains dicts with lists: (target: [true, pred_NN] )\n",
    "    for test_case in Comp_list:\n",
    "        Percomp[ test_case ] = {}\n",
    "        for tokens in Inter_list:\n",
    "            if tokens[1]==test_case:\n",
    "                Percomp[test_case][ tokens[0] ] = [ tokens[2] ]\n",
    "        if len(Percomp[ test_case ])>0:\n",
    "            # we've got some values for this compound, now produce predictions:\n",
    "            preds = mulpredict(Model, np.array( Fingerprints[test_case]).reshape(1,-1), Ntar, Niter)\n",
    "            \n",
    "            for target in Percomp[test_case]: \n",
    "                Percomp[test_case][target].append( preds[Labels_Targ[target]])\n",
    "                Predictions.append( [target,test_case, Percomp[test_case][target][0], Percomp[test_case][target][1] ])\n",
    "\n",
    "        if len(Predictions) % 1000 == 0:\n",
    "            r2 = r2_score([x[2] for x in Predictions], [x[3] for x in Predictions])\n",
    "            print(f\"\\rMore than \", len(Predictions),\" pairs have been parsed. Mean performance so far =\",r2, end=\" \")\n",
    "    print(\" \")\n",
    "    r2 = r2_score([x[2] for x in Predictions], [x[3] for x in Predictions])\n",
    "    print(\"Performance for MTL-D NN = %f\" % r2)\n",
    "    return Predictions\n",
    "\n",
    "# Initialize sparse matrix - this will be binary\n",
    "DTI = 10*np.ones((nC,nT),dtype=float)\n",
    "\n",
    "for edge in Interactions_train:\n",
    "    # each edge has \"target-compound-value-active\"\n",
    "    DTI[ Labels_Comp[edge[1]], Labels_Targ[edge[0]] ] = edge[2]\n",
    "DTI.shape"
   ]
  },
  {
   "cell_type": "markdown",
   "metadata": {},
   "source": [
    "### 1. Cross Validation for MTL model"
   ]
  },
  {
   "cell_type": "code",
   "execution_count": 4,
   "metadata": {
    "scrolled": true
   },
   "outputs": [
    {
     "name": "stdout",
     "output_type": "stream",
     "text": [
      "WARNING:tensorflow:From /homes/kalantzi/.local/lib/python3.7/site-packages/keras/backend/tensorflow_backend.py:66: The name tf.get_default_graph is deprecated. Please use tf.compat.v1.get_default_graph instead.\n",
      "\n",
      "WARNING:tensorflow:From /homes/kalantzi/.local/lib/python3.7/site-packages/keras/backend/tensorflow_backend.py:541: The name tf.placeholder is deprecated. Please use tf.compat.v1.placeholder instead.\n",
      "\n",
      "WARNING:tensorflow:From /homes/kalantzi/.local/lib/python3.7/site-packages/keras/backend/tensorflow_backend.py:4432: The name tf.random_uniform is deprecated. Please use tf.random.uniform instead.\n",
      "\n",
      "WARNING:tensorflow:From /homes/kalantzi/.local/lib/python3.7/site-packages/keras/optimizers.py:793: The name tf.train.Optimizer is deprecated. Please use tf.compat.v1.train.Optimizer instead.\n",
      "\n",
      "WARNING:tensorflow:From /homes/kalantzi/.local/lib/python3.7/site-packages/keras/backend/tensorflow_backend.py:1033: The name tf.assign_add is deprecated. Please use tf.compat.v1.assign_add instead.\n",
      "\n",
      "WARNING:tensorflow:From /homes/kalantzi/.local/lib/python3.7/site-packages/keras/backend/tensorflow_backend.py:1020: The name tf.assign is deprecated. Please use tf.compat.v1.assign instead.\n",
      "\n",
      "Fitting for (shared, hidden, lamda)=(200,20,0.02) is 0.10750299519711352\n",
      "Fitting for (shared, hidden, lamda)=(200,20,0.05) is 0.08728674388710647\n",
      "Fitting for (shared, hidden, lamda)=(200,20,0.1) is 0.08663138552262467\n",
      "Fitting for (shared, hidden, lamda)=(200,30,0.02) is 0.1306429322639459\n",
      "Fitting for (shared, hidden, lamda)=(200,30,0.05) is 0.09534989498508363\n",
      "Fitting for (shared, hidden, lamda)=(200,30,0.1) is 0.08517364398733886\n",
      "Fitting for (shared, hidden, lamda)=(300,20,0.02) is 0.10430409553030483\n",
      "Fitting for (shared, hidden, lamda)=(300,20,0.05) is 0.0864468093796684\n",
      "Fitting for (shared, hidden, lamda)=(300,20,0.1) is 0.08680993152786634\n",
      "Fitting for (shared, hidden, lamda)=(300,30,0.02) is 0.12595300663358772\n",
      "Fitting for (shared, hidden, lamda)=(300,30,0.05) is 0.09174518575540683\n",
      "Fitting for (shared, hidden, lamda)=(300,30,0.1) is 0.08621129022952265\n",
      "Fitting for (shared, hidden, lamda)=(400,20,0.02) is 0.1036615491772203\n",
      "Fitting for (shared, hidden, lamda)=(400,20,0.05) is 0.08548617622603338\n",
      "Fitting for (shared, hidden, lamda)=(400,20,0.1) is 0.08681269059197395\n",
      "Fitting for (shared, hidden, lamda)=(400,30,0.02) is 0.12272129505030228\n",
      "Fitting for (shared, hidden, lamda)=(400,30,0.05) is 0.09013123431965399\n",
      "Fitting for (shared, hidden, lamda)=(400,30,0.1) is 0.08668948654005397\n"
     ]
    }
   ],
   "source": [
    "BS=64; Nepochs=30; lr=0.0001\n",
    "filetosave = \"Cross-val-tanh-MTL\"+str(Nepochs)+'.'+str(BS)+\".txt\"\n",
    "with open(filetosave, 'w') as f:\n",
    "    f.write('')\n",
    "    \n",
    "param_grid={'wsl':[200,300,400],'whl':[20,30], 'lamda':[0.02,0.05,0.1]}\n",
    "Loss_history_MTL = {}\n",
    "best_loss = 10\n",
    "best_params =  {} #{'whl':0, 'lamda':0, 'lamda':}\n",
    "\n",
    "for wsl in param_grid['wsl']:\n",
    "    for whl in param_grid['whl']:\n",
    "        for lamda in param_grid['lamda']:\n",
    "            MTLR = MTL(wsl=wsl, whl=whl, lamda=lamda )\n",
    "            MTLR.fit( np.array([Fingerprints[x] for x in Compounds]), [x for x in DTI.T], epochs=Nepochs, batch_size=BS, validation_split=0.25, verbose=0, use_multiprocessing=True )\n",
    "            loss = np.mean( [MTLR.history.history[x][-1] for x in list(MTLR.history.history)[1:]] )\n",
    "            print(\"Fitting for (shared, hidden, lamda)=({0},{1},{2}) is {3}\".format(wsl, whl, lamda, loss) )\n",
    "            with open(filetosave, 'a') as f:\n",
    "                f.write(\"Fitting for (shared, hidden, lamda)=({0},{1},{2}) is {3}\\n\".format(wsl, whl, lamda, loss))\n",
    "            if loss < best_loss:\n",
    "                best_loss = loss\n",
    "                best_params['wsl'] = wsl\n",
    "                best_params['whl'] = whl\n",
    "                best_params['lamda'] = lamda\n",
    "            Loss_history_MTL[(wsl,whl,lamda)] = MTLR.history.history"
   ]
  },
  {
   "cell_type": "code",
   "execution_count": 5,
   "metadata": {},
   "outputs": [
    {
     "data": {
      "text/plain": [
       "{'wsl': 200, 'whl': 30, 'lamda': 0.1}"
      ]
     },
     "execution_count": 5,
     "metadata": {},
     "output_type": "execute_result"
    }
   ],
   "source": [
    "best_params\n",
    "# best_params = {'wsl': 300, 'whl': 20, 'lamda': 0.05}"
   ]
  },
  {
   "cell_type": "code",
   "execution_count": 6,
   "metadata": {},
   "outputs": [
    {
     "name": "stdout",
     "output_type": "stream",
     "text": [
      "200 30 0.1 30 64 0.0001\n",
      "Training length with 30 epochs and BS=64 is 1230.455846786499\n",
      "More than  11000  pairs have been parsed. Mean performance so far = 0.6322583172880782  \n",
      "Performance for MTL-D NN = 0.630451\n",
      "MSE- accuracy for MTL NN = 2.446853\n",
      "Saving model as MTL-200-30-0.1-model.h5\n"
     ]
    }
   ],
   "source": [
    "# Nepochs = 30; BS=64; lr=0.0001\n",
    "wsl=best_params['wsl']; whl=best_params['whl']; lamda=best_params['lamda']\n",
    "print(wsl,whl,lamda,Nepochs,BS,lr)\n",
    "\n",
    "t0=time()\n",
    "MTLR = MTL(wsl=wsl, whl=whl, lamda=lamda,lr=lr )\n",
    "MTLR.fit( np.array([Fingerprints[x] for x in Compounds]), [x for x in DTI.T], epochs=Nepochs, batch_size=BS, verbose=0, use_multiprocessing=True )\n",
    "print(\"Training length with {0} epochs and BS={1} is {2}\".format(Nepochs, BS, time()-t0))\n",
    "\n",
    "Predictions_MTL = Evaluate( Interactions_valid, Compounds, MTLR, Fingerprints, Niter=1)\n",
    "# print(\"R2 - accuracy for MTL NN = %f\" % r2_score([x[2] for x in Predictions_MTL], [x[3] for x in Predictions_MTL]) )\n",
    "print(\"MSE- accuracy for MTL NN = %f\" % MSE([x[2] for x in Predictions_MTL], [x[3] for x in Predictions_MTL]) )\n",
    "\n",
    "with open(filetosave, 'a') as f:\n",
    "    f.write('R2 on validation set = {0:.6f}'.format(r2_score([x[2] for x in Predictions_MTL], [x[3] for x in Predictions_MTL])))\n",
    "name = 'MTL-'+str(wsl)+'-'+str(whl)+'-'+str(lamda)+'-model.h5'\n",
    "print('Saving model as '+name)\n",
    "MTLR.save(name)"
   ]
  },
  {
   "cell_type": "markdown",
   "metadata": {},
   "source": [
    "### 2. Cross validation with MTL with drop-out model"
   ]
  },
  {
   "cell_type": "code",
   "execution_count": 8,
   "metadata": {
    "scrolled": true
   },
   "outputs": [
    {
     "name": "stdout",
     "output_type": "stream",
     "text": [
      "Fitting for (shared, hidden, drop_rate)=(2000,100,0.05) is 0.5559834883856346\n",
      "Fitting for (shared, hidden, drop_rate)=(2000,100,0.1) is 0.47162441618527556\n",
      "Fitting for (shared, hidden, drop_rate)=(2000,100,0.2) is 0.5259490850817631\n",
      "Fitting for (shared, hidden, drop_rate)=(2000,50,0.05) is 0.22474795364931185\n",
      "Fitting for (shared, hidden, drop_rate)=(2000,50,0.1) is 0.26689248714320574\n",
      "Fitting for (shared, hidden, drop_rate)=(2000,50,0.2) is 0.2903752799566264\n",
      "Fitting for (shared, hidden, drop_rate)=(2000,20,0.05) is 0.14088688278107095\n",
      "Fitting for (shared, hidden, drop_rate)=(2000,20,0.1) is 0.1266914118935667\n",
      "Fitting for (shared, hidden, drop_rate)=(2000,20,0.2) is 0.160924720348892\n",
      "Fitting for (shared, hidden, drop_rate)=(300,100,0.05) is 0.36526465634302907\n",
      "Fitting for (shared, hidden, drop_rate)=(300,100,0.1) is 1.1294780939030147\n",
      "Fitting for (shared, hidden, drop_rate)=(300,100,0.2) is 1.4603692950922464\n",
      "Fitting for (shared, hidden, drop_rate)=(300,50,0.05) is 0.14453565401505483\n",
      "Fitting for (shared, hidden, drop_rate)=(300,50,0.1) is 0.12307052805004513\n",
      "Fitting for (shared, hidden, drop_rate)=(300,50,0.2) is 1.0087375103889216\n",
      "Fitting for (shared, hidden, drop_rate)=(300,20,0.05) is 0.11586086461604682\n",
      "Fitting for (shared, hidden, drop_rate)=(300,20,0.1) is 0.09920284450503504\n",
      "Fitting for (shared, hidden, drop_rate)=(300,20,0.2) is 0.09954032711290055\n",
      "Fitting for (shared, hidden, drop_rate)=(200,100,0.05) is 0.19427453653767998\n",
      "Fitting for (shared, hidden, drop_rate)=(200,100,0.1) is 0.15755528161227259\n",
      "Fitting for (shared, hidden, drop_rate)=(200,100,0.2) is 3.7611057057817567\n",
      "Fitting for (shared, hidden, drop_rate)=(200,50,0.05) is 0.2998834154956844\n",
      "Fitting for (shared, hidden, drop_rate)=(200,50,0.1) is 0.09850489317550162\n",
      "Fitting for (shared, hidden, drop_rate)=(200,50,0.2) is 0.12837598620920532\n",
      "Fitting for (shared, hidden, drop_rate)=(200,20,0.05) is 0.093495244639732\n",
      "Fitting for (shared, hidden, drop_rate)=(200,20,0.1) is 0.09172015355071127\n",
      "Fitting for (shared, hidden, drop_rate)=(200,20,0.2) is 0.11247731037555841\n"
     ]
    }
   ],
   "source": [
    "BS=64; Nepochs=50\n",
    "\n",
    "filetosave = \"Cross-val-MTLD\"+str(Nepochs)+'.'+str(BS)+\".txt\"\n",
    "with open(filetosave, 'w') as f:\n",
    "    f.write('')\n",
    "    \n",
    "param_grid={'wsl':[2000,300,200],'whl':[100,50,20], 'drop_rate':[0.05,0.1,0.2]}\n",
    "\n",
    "Loss_history_MTLD = {}\n",
    "best_loss = 10\n",
    "best_params =  {} #{'whl':0, 'lamda':0, 'lamda':}\n",
    "for wsl in param_grid['wsl']:\n",
    "    for whl in param_grid['whl']:\n",
    "        for dr in param_grid['drop_rate']:\n",
    "            MTLR = MTL_Drop(wsl=wsl, whl=whl, drop_rate=dr )\n",
    "            MTLR.fit( np.array([Fingerprints[x] for x in Compounds]), [x for x in DTI.T], epochs=Nepochs, batch_size=BS, validation_split=0.25, verbose=0, use_multiprocessing=True )\n",
    "            loss = np.mean( [MTLR.history.history[x][-1] for x in list(MTLR.history.history)[1:]] )\n",
    "            print(\"Fitting for (shared, hidden, drop_rate)=({0},{1},{2}) is {3}\".format(wsl, whl, dr, loss) )\n",
    "            with open(filetosave, 'a') as f:\n",
    "                f.write(\"Fitting for (shared, hidden, drop_rate)=({0},{1},{2}) is {3}\\n\".format(wsl, whl, dr, loss))\n",
    "            if loss < best_loss:\n",
    "                best_loss = loss\n",
    "                best_params['wsl'] = wsl\n",
    "                best_params['whl'] = whl\n",
    "                best_params['drop_rate'] = dr\n",
    "            Loss_history_MTLD[(wsl,whl,dr)] = MTLR.history.history"
   ]
  },
  {
   "cell_type": "code",
   "execution_count": 9,
   "metadata": {},
   "outputs": [
    {
     "data": {
      "text/plain": [
       "{'wsl': 200, 'whl': 20, 'drop_rate': 0.1}"
      ]
     },
     "execution_count": 9,
     "metadata": {},
     "output_type": "execute_result"
    }
   ],
   "source": [
    "best_params\n",
    "# best_params = {'wsl': 200, 'whl': 20, 'drop_rate': 0.05}"
   ]
  },
  {
   "cell_type": "code",
   "execution_count": 10,
   "metadata": {},
   "outputs": [
    {
     "name": "stdout",
     "output_type": "stream",
     "text": [
      "200 20 0.1 50 64\n",
      "Training length with 50 epochs and BS=64 is 3039.8009266853333\n",
      "More than  11000  pairs have been parsed. Mean performance so far = 0.6269771860117468  \n",
      "Performance for MTL-D NN = 0.625055\n",
      "MSE- accuracy for MTL NN = 2.482580\n",
      "Saving model as MTLD-200-20-0.1-model.h5\n"
     ]
    }
   ],
   "source": [
    "# max_mean={ 'wsl':200, 'whl':30, 'lamda':0.1}\n",
    "# Nepochs = 30; BS=64; lr=0.0001\n",
    "wsl=best_params['wsl']; whl=best_params['whl']; dr=best_params['drop_rate']\n",
    "print(wsl,whl,dr,Nepochs,BS)\n",
    "\n",
    "# we assume that CV for model selection has already been performed!\n",
    "MTLD = MTL_Drop(wsl,whl,dr,0.0001)\n",
    "t0=time()\n",
    "MTLD.fit( np.array([Fingerprints[x] for x in Compounds]), [x for x in DTI.T], epochs=Nepochs, batch_size=BS, verbose=0, use_multiprocessing=True )\n",
    "print(\"Training length with {0} epochs and BS={1} is {2}\".format(Nepochs, BS, time()-t0))\n",
    "\n",
    "Predictions_MTLD = Evaluate( Interactions_valid, Compounds, MTLD, Fingerprints)\n",
    "print(\"MSE- accuracy for MTL NN = %f\" % MSE([x[2] for x in Predictions_MTLD], [x[3] for x in Predictions_MTLD]) )\n",
    "\n",
    "with open(filetosave, 'a') as f:\n",
    "    f.write('R2 on validation set = {0:.6f}'.format(r2_score([x[2] for x in Predictions_MTLD], [x[3] for x in Predictions_MTLD])))\n",
    "    \n",
    "name = 'MTLD-'+str(wsl)+'-'+str(whl)+'-'+str(dr)+'-model.h5'\n",
    "print('Saving model as '+name)\n",
    "MTLD.save(name)"
   ]
  }
 ],
 "metadata": {
  "kernelspec": {
   "display_name": "Python 3",
   "language": "python",
   "name": "python3"
  },
  "language_info": {
   "codemirror_mode": {
    "name": "ipython",
    "version": 3
   },
   "file_extension": ".py",
   "mimetype": "text/x-python",
   "name": "python",
   "nbconvert_exporter": "python",
   "pygments_lexer": "ipython3",
   "version": "3.7.3"
  }
 },
 "nbformat": 4,
 "nbformat_minor": 2
}
