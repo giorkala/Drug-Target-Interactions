{
 "cells": [
  {
   "cell_type": "markdown",
   "metadata": {},
   "source": [
    "## An introduction to ChEMBL with focus on kinases\n",
    "This notebook fetches interactions for kinases and does some basic analysis. We can either download them from the web-server or load from a file (previously created). So far, interactions are not filtered and without any values."
   ]
  },
  {
   "cell_type": "markdown",
   "metadata": {},
   "source": [
    "## 0. Prerequisites"
   ]
  },
  {
   "cell_type": "code",
   "execution_count": 1,
   "metadata": {},
   "outputs": [],
   "source": [
    "import numpy as np\n",
    "import pandas as pd\n",
    "# from sklearn.metrics import mean_squared_error as rmse\n",
    "from sklearn.metrics import r2_score\n",
    "from sklearn.metrics import mean_squared_error as MSE\n",
    "\n",
    "from sklearn.model_selection import cross_validate, GridSearchCV\n",
    "from sklearn.ensemble import RandomForestRegressor\n",
    "from sklearn.neural_network import MLPRegressor\n",
    "from sklearn.decomposition import TruncatedSVD as tSVD\n",
    "\n",
    "import  matplotlib.pyplot as plt\n",
    "random_seed = 2019\n",
    "np.random.seed(random_seed)"
   ]
  },
  {
   "cell_type": "markdown",
   "metadata": {},
   "source": [
    "### Load data file from disk\n",
    " Create a list with all the associated compounds and give some statistics."
   ]
  },
  {
   "cell_type": "code",
   "execution_count": 2,
   "metadata": {},
   "outputs": [
    {
     "name": "stdout",
     "output_type": "stream",
     "text": [
      "There are 110 targets and 23167 compounds currently loaded with 56392 interactions.\n",
      "A DTI matrix would be 2.213% dense!\n"
     ]
    }
   ],
   "source": [
    "Interactions = []\n",
    "\n",
    "with open(\"interactions_kinases_IC50_train.tab\", 'r') as file:\n",
    "    header_line = next(file)\n",
    "    for line in file:\n",
    "        tokens = line.split()\n",
    "        # 'Target-ID', 'Compound-ID', 'Std-value'  \n",
    "        Interactions.append( [tokens[0], tokens[1], tokens[2] ])\n",
    "\n",
    "# we use a dataframe to quickly sort targets wrt #compounds:\n",
    "DF = pd.DataFrame( Interactions, columns =['Target-ID', 'Compound-ID','Std-value']) \n",
    "temp = DF.groupby(['Target-ID']).agg('count').sort_values(by='Compound-ID') # count the number of molecules\n",
    "Targets = list(temp.index)\n",
    "Compounds = np.unique(DF['Compound-ID'])\n",
    "del temp, DF\n",
    "\n",
    "nT=len(Targets); nC=len(Compounds)\n",
    "\n",
    "print(\"There are {0} targets and {1} compounds currently loaded with {2} interactions.\".format(nT,nC,len(Interactions)))\n",
    "print(\"A DTI matrix would be {0:.4}% dense!\".format(100.0*len(Interactions)/nT/nC ))"
   ]
  },
  {
   "cell_type": "code",
   "execution_count": 3,
   "metadata": {},
   "outputs": [
    {
     "name": "stdout",
     "output_type": "stream",
     "text": [
      "155083 fingerprints were loaded!\n"
     ]
    }
   ],
   "source": [
    "# first we need to prepare each fp as a feature vector\n",
    "Fingerprints={} # this contains one list per fingerprint - not efficient...\n",
    "with open('Compound_Fingerprints.tab', 'r') as f:\n",
    "    header = f.readline()\n",
    "    for line in f:\n",
    "        # each line is Comp-ID, SMILES, FP\n",
    "        tokens = line.split()\n",
    "        # we keep only those compounds which have FPs\n",
    "        if tokens[2] != 'NOFP':\n",
    "            fp = [int(c) for c in tokens[2] ]\n",
    "            Fingerprints[ tokens[0] ] = fp\n",
    "print(\"%d fingerprints were loaded!\" % len(Fingerprints))"
   ]
  },
  {
   "cell_type": "markdown",
   "metadata": {},
   "source": [
    "### Split to Train-Validation sets"
   ]
  },
  {
   "cell_type": "code",
   "execution_count": 4,
   "metadata": {
    "scrolled": true
   },
   "outputs": [],
   "source": [
    "indices = list(range(len(Interactions)))\n",
    "split = int(np.floor( 0.2*( len(indices)) ))\n",
    "# split the active interactions in train-test sets\n",
    "np.random.shuffle( indices ) # this happens in-place\n",
    "\n",
    "Interactions_train = [ Interactions[x] for x in indices[split:] ] # the last 80%\n",
    "Interactions_valid = [ Interactions[x] for x in indices[:split] ] # the first 20%"
   ]
  },
  {
   "cell_type": "markdown",
   "metadata": {},
   "source": [
    "## 1. Random Forests"
   ]
  },
  {
   "cell_type": "code",
   "execution_count": 5,
   "metadata": {},
   "outputs": [
    {
     "name": "stdout",
     "output_type": "stream",
     "text": [
      "More than 0 targets are processed\n",
      "More than 25 targets are processed\n",
      "More than 50 targets are processed\n",
      "More than 75 targets are processed\n",
      "More than 100 targets are processed\n",
      "Mean score for RF during training = 0.838784\n"
     ]
    }
   ],
   "source": [
    "RFR_all = dict()\n",
    "Scores_RFR_train=[]\n",
    "count=0\n",
    "param_grid={'n_estimators':[10,25,50,100,150,300], 'max_depth':[3,4,5,7,10,15,25]}\n",
    "for target in Targets:\n",
    "    # define the train set\n",
    "    X_train=[]; Y_train=[]\n",
    "    for point in Interactions_train:\n",
    "        if point[0]==target:\n",
    "            X_train.append( [int(c) for c in Fingerprints[point[1]] ] )\n",
    "            Y_train.append( float(point[2]) )\n",
    "    if len(Y_train)>40:\n",
    "        # we need to ensure there is enough data for CV\n",
    "        cvr = GridSearchCV(RandomForestRegressor(random_state=2019), param_grid, cv=5, n_jobs=5, iid=True)\n",
    "        # here comes the long step\n",
    "        cvr.fit(X_train, Y_train)\n",
    "        # select best parametrisation and train to the complete train-set\n",
    "        RFR = RandomForestRegressor( n_estimators= cvr.best_params_['n_estimators'], max_depth=cvr.best_params_['max_depth'], random_state=2019)\n",
    "        RFR.fit(X_train,Y_train)\n",
    "        RFR_all[target] = RFR\n",
    "        Scores_RFR_train.append( RFR.score( X_train,  Y_train))\n",
    "#         print(Scores_RFR_train[-1])\n",
    "    else:\n",
    "        print(\"Not enough data for %s\" % target)\n",
    "    if count%25==0:print(\"More than %d targets are processed\" % count)\n",
    "    count+=1\n",
    "    \n",
    "print(\"Mean score for RF during training = %f\" % np.mean(Scores_RFR_train) )"
   ]
  },
  {
   "cell_type": "code",
   "execution_count": 6,
   "metadata": {},
   "outputs": [
    {
     "name": "stdout",
     "output_type": "stream",
     "text": [
      "4\n",
      "3\n",
      "10\n",
      "5\n",
      "4\n",
      "3\n",
      "10\n",
      "5\n",
      "10\n",
      "3\n",
      "10\n",
      "15\n",
      "10\n",
      "7\n",
      "10\n",
      "3\n",
      "10\n",
      "15\n",
      "5\n",
      "15\n",
      "10\n",
      "3\n",
      "15\n",
      "4\n",
      "25\n",
      "5\n",
      "7\n",
      "25\n",
      "7\n",
      "10\n",
      "25\n",
      "25\n",
      "25\n",
      "3\n",
      "10\n",
      "7\n",
      "10\n",
      "7\n",
      "25\n",
      "15\n",
      "15\n",
      "10\n",
      "3\n",
      "4\n",
      "25\n",
      "3\n",
      "10\n",
      "3\n",
      "25\n",
      "3\n",
      "25\n",
      "25\n",
      "25\n",
      "4\n",
      "15\n",
      "25\n",
      "3\n",
      "3\n",
      "10\n",
      "5\n",
      "15\n",
      "25\n",
      "25\n",
      "15\n",
      "25\n",
      "25\n",
      "25\n",
      "25\n",
      "3\n",
      "25\n",
      "25\n",
      "15\n",
      "25\n",
      "25\n",
      "25\n",
      "25\n",
      "10\n",
      "25\n",
      "15\n",
      "25\n",
      "25\n",
      "25\n",
      "25\n",
      "25\n",
      "4\n",
      "25\n",
      "25\n",
      "25\n",
      "3\n",
      "25\n",
      "15\n",
      "25\n",
      "15\n",
      "5\n",
      "25\n",
      "25\n",
      "25\n",
      "5\n",
      "3\n",
      "25\n",
      "25\n",
      "25\n",
      "25\n",
      "25\n",
      "25\n",
      "25\n",
      "25\n",
      "25\n",
      "25\n",
      "25\n"
     ]
    }
   ],
   "source": [
    "for model in RFR_all:\n",
    "    print( RFR_all[model].get_params()['max_depth'])"
   ]
  },
  {
   "cell_type": "markdown",
   "metadata": {},
   "source": [
    "## 2. Neural Networks"
   ]
  },
  {
   "cell_type": "code",
   "execution_count": 7,
   "metadata": {},
   "outputs": [
    {
     "name": "stdout",
     "output_type": "stream",
     "text": [
      "More than 0 targets are processed\n",
      "More than 25 targets are processed\n",
      "More than 50 targets are processed\n",
      "More than 75 targets are processed\n",
      "More than 100 targets are processed\n",
      "Mean score for NN during training = 0.684588\n"
     ]
    }
   ],
   "source": [
    "MLPR_all = dict()\n",
    "Scores_MLPR_train=[]\n",
    "param_grid={'hidden_layer_sizes':[(50),(50,100),(50,20,10)] }\n",
    "count=0\n",
    "for target in Targets:\n",
    "    # define the train set\n",
    "    X_train=[]; Y_train=[]\n",
    "    for point in Interactions:\n",
    "        if point[0]==target:\n",
    "            X_train.append( [int(c) for c in Fingerprints[point[1]] ] )\n",
    "            Y_train.append( float(point[2]) )\n",
    "    if len(Y_train)>40:\n",
    "        # we need to ensure there is enough data for CV\n",
    "        cvr = GridSearchCV(MLPRegressor(activation='logistic', solver='lbfgs', random_state=2019), param_grid, cv=5, n_jobs=5, iid=True)\n",
    "        cvr.fit(X_train, Y_train)\n",
    "        # select best parametrisation and train to the complete train-set\n",
    "        MLPR = MLPRegressor( hidden_layer_sizes = cvr.best_params_['hidden_layer_sizes'], activation='logistic', solver='lbfgs', random_state=2019)\n",
    "        MLPR.fit(X_train,Y_train)\n",
    "        MLPR_all[target] = MLPR\n",
    "        Scores_MLPR_train.append( MLPR.score( X_train,  Y_train))\n",
    "#         print(Scores_MLPR_train[-1])\n",
    "    else:\n",
    "        print(\"Not enough data for %s\" % target)\n",
    "    if count%25==0:print(\"More than %d targets are processed\" % count)\n",
    "    count+=1\n",
    "    \n",
    "print(\"Mean score for NN during training = %f\" % np.mean(Scores_MLPR_train))"
   ]
  },
  {
   "cell_type": "markdown",
   "metadata": {},
   "source": [
    "## 3. Lasso Regression"
   ]
  },
  {
   "cell_type": "code",
   "execution_count": 8,
   "metadata": {},
   "outputs": [
    {
     "name": "stdout",
     "output_type": "stream",
     "text": [
      "More than 0 targets are processed\n"
     ]
    },
    {
     "name": "stderr",
     "output_type": "stream",
     "text": [
      "/homes/kalantzi/.local/lib/python3.7/site-packages/sklearn/linear_model/coordinate_descent.py:475: ConvergenceWarning: Objective did not converge. You might want to increase the number of iterations. Duality gap: 585703.7465964807, tolerance: 22752.095962891184\n",
      "  positive)\n",
      "/homes/kalantzi/.local/lib/python3.7/site-packages/sklearn/linear_model/coordinate_descent.py:475: ConvergenceWarning: Objective did not converge. You might want to increase the number of iterations. Duality gap: 585703.7465964807, tolerance: 22752.095962891184\n",
      "  positive)\n",
      "/homes/kalantzi/.local/lib/python3.7/site-packages/sklearn/linear_model/coordinate_descent.py:475: ConvergenceWarning: Objective did not converge. You might want to increase the number of iterations. Duality gap: 3824722.0595887452, tolerance: 12113.953129993115\n",
      "  positive)\n",
      "/homes/kalantzi/.local/lib/python3.7/site-packages/sklearn/linear_model/coordinate_descent.py:475: ConvergenceWarning: Objective did not converge. You might want to increase the number of iterations. Duality gap: 3824722.0595887452, tolerance: 12113.953129993115\n",
      "  positive)\n",
      "/homes/kalantzi/.local/lib/python3.7/site-packages/sklearn/linear_model/coordinate_descent.py:475: ConvergenceWarning: Objective did not converge. You might want to increase the number of iterations. Duality gap: 81910.87544063479, tolerance: 31831.3885785567\n",
      "  positive)\n",
      "/homes/kalantzi/.local/lib/python3.7/site-packages/sklearn/linear_model/coordinate_descent.py:475: ConvergenceWarning: Objective did not converge. You might want to increase the number of iterations. Duality gap: 81910.87544063479, tolerance: 31831.3885785567\n",
      "  positive)\n",
      "/homes/kalantzi/.local/lib/python3.7/site-packages/sklearn/linear_model/coordinate_descent.py:475: ConvergenceWarning: Objective did not converge. You might want to increase the number of iterations. Duality gap: 293191.0910768522, tolerance: 54037.64964902912\n",
      "  positive)\n",
      "/homes/kalantzi/.local/lib/python3.7/site-packages/sklearn/linear_model/coordinate_descent.py:475: ConvergenceWarning: Objective did not converge. You might want to increase the number of iterations. Duality gap: 293191.0910768522, tolerance: 54037.64964902912\n",
      "  positive)\n",
      "/homes/kalantzi/.local/lib/python3.7/site-packages/sklearn/linear_model/coordinate_descent.py:475: ConvergenceWarning: Objective did not converge. You might want to increase the number of iterations. Duality gap: 76946.9330613561, tolerance: 11581.415715230767\n",
      "  positive)\n",
      "/homes/kalantzi/.local/lib/python3.7/site-packages/sklearn/linear_model/coordinate_descent.py:475: ConvergenceWarning: Objective did not converge. You might want to increase the number of iterations. Duality gap: 76946.9330613561, tolerance: 11581.415715230767\n",
      "  positive)\n",
      "/homes/kalantzi/.local/lib/python3.7/site-packages/sklearn/linear_model/coordinate_descent.py:475: ConvergenceWarning: Objective did not converge. You might want to increase the number of iterations. Duality gap: 148900.69171293697, tolerance: 50301.46630778923\n",
      "  positive)\n",
      "/homes/kalantzi/.local/lib/python3.7/site-packages/sklearn/linear_model/coordinate_descent.py:475: ConvergenceWarning: Objective did not converge. You might want to increase the number of iterations. Duality gap: 148900.69171293697, tolerance: 50301.46630778923\n",
      "  positive)\n",
      "/homes/kalantzi/.local/lib/python3.7/site-packages/sklearn/linear_model/coordinate_descent.py:475: ConvergenceWarning: Objective did not converge. You might want to increase the number of iterations. Duality gap: 135250.5431066975, tolerance: 61742.33402633887\n",
      "  positive)\n",
      "/homes/kalantzi/.local/lib/python3.7/site-packages/sklearn/linear_model/coordinate_descent.py:475: ConvergenceWarning: Objective did not converge. You might want to increase the number of iterations. Duality gap: 135250.5431066975, tolerance: 61742.33402633887\n",
      "  positive)\n",
      "/homes/kalantzi/.local/lib/python3.7/site-packages/sklearn/linear_model/coordinate_descent.py:475: ConvergenceWarning: Objective did not converge. You might want to increase the number of iterations. Duality gap: 775650.4954942004, tolerance: 54608.74776434328\n",
      "  positive)\n",
      "/homes/kalantzi/.local/lib/python3.7/site-packages/sklearn/linear_model/coordinate_descent.py:475: ConvergenceWarning: Objective did not converge. You might want to increase the number of iterations. Duality gap: 775650.4954942004, tolerance: 54608.74776434328\n",
      "  positive)\n",
      "/homes/kalantzi/.local/lib/python3.7/site-packages/sklearn/linear_model/coordinate_descent.py:475: ConvergenceWarning: Objective did not converge. You might want to increase the number of iterations. Duality gap: 221622.68916512746, tolerance: 26048.319112680638\n",
      "  positive)\n",
      "/homes/kalantzi/.local/lib/python3.7/site-packages/sklearn/linear_model/coordinate_descent.py:475: ConvergenceWarning: Objective did not converge. You might want to increase the number of iterations. Duality gap: 221622.68916512746, tolerance: 26048.319112680638\n",
      "  positive)\n",
      "/homes/kalantzi/.local/lib/python3.7/site-packages/sklearn/linear_model/coordinate_descent.py:475: ConvergenceWarning: Objective did not converge. You might want to increase the number of iterations. Duality gap: 214649.1530321621, tolerance: 78902.95099058321\n",
      "  positive)\n",
      "/homes/kalantzi/.local/lib/python3.7/site-packages/sklearn/linear_model/coordinate_descent.py:475: ConvergenceWarning: Objective did not converge. You might want to increase the number of iterations. Duality gap: 214649.1530321621, tolerance: 78902.95099058321\n",
      "  positive)\n",
      "/homes/kalantzi/.local/lib/python3.7/site-packages/sklearn/linear_model/coordinate_descent.py:475: ConvergenceWarning: Objective did not converge. You might want to increase the number of iterations. Duality gap: 51478.04689919029, tolerance: 40905.33189855053\n",
      "  positive)\n",
      "/homes/kalantzi/.local/lib/python3.7/site-packages/sklearn/linear_model/coordinate_descent.py:475: ConvergenceWarning: Objective did not converge. You might want to increase the number of iterations. Duality gap: 51478.04689919029, tolerance: 40905.33189855053\n",
      "  positive)\n",
      "/homes/kalantzi/.local/lib/python3.7/site-packages/sklearn/linear_model/coordinate_descent.py:475: ConvergenceWarning: Objective did not converge. You might want to increase the number of iterations. Duality gap: 2715048.4982056143, tolerance: 74323.95650335735\n",
      "  positive)\n",
      "/homes/kalantzi/.local/lib/python3.7/site-packages/sklearn/linear_model/coordinate_descent.py:475: ConvergenceWarning: Objective did not converge. You might want to increase the number of iterations. Duality gap: 2715048.4982056143, tolerance: 74323.95650335735\n",
      "  positive)\n",
      "/homes/kalantzi/.local/lib/python3.7/site-packages/sklearn/linear_model/coordinate_descent.py:475: ConvergenceWarning: Objective did not converge. You might want to increase the number of iterations. Duality gap: 47212.05718679508, tolerance: 29715.5598979021\n",
      "  positive)\n",
      "/homes/kalantzi/.local/lib/python3.7/site-packages/sklearn/linear_model/coordinate_descent.py:475: ConvergenceWarning: Objective did not converge. You might want to increase the number of iterations. Duality gap: 47212.05718679508, tolerance: 29715.5598979021\n",
      "  positive)\n"
     ]
    },
    {
     "name": "stdout",
     "output_type": "stream",
     "text": [
      "More than 25 targets are processed\n"
     ]
    },
    {
     "name": "stderr",
     "output_type": "stream",
     "text": [
      "/homes/kalantzi/.local/lib/python3.7/site-packages/sklearn/linear_model/coordinate_descent.py:475: ConvergenceWarning: Objective did not converge. You might want to increase the number of iterations. Duality gap: 42406.9787555048, tolerance: 19734.43476246552\n",
      "  positive)\n",
      "/homes/kalantzi/.local/lib/python3.7/site-packages/sklearn/linear_model/coordinate_descent.py:475: ConvergenceWarning: Objective did not converge. You might want to increase the number of iterations. Duality gap: 42406.9787555048, tolerance: 19734.43476246552\n",
      "  positive)\n",
      "/homes/kalantzi/.local/lib/python3.7/site-packages/sklearn/linear_model/coordinate_descent.py:475: ConvergenceWarning: Objective did not converge. You might want to increase the number of iterations. Duality gap: 2103651.356200206, tolerance: 50489.38488204968\n",
      "  positive)\n",
      "/homes/kalantzi/.local/lib/python3.7/site-packages/sklearn/linear_model/coordinate_descent.py:475: ConvergenceWarning: Objective did not converge. You might want to increase the number of iterations. Duality gap: 2103651.356200206, tolerance: 50489.38488204968\n",
      "  positive)\n",
      "/homes/kalantzi/.local/lib/python3.7/site-packages/sklearn/linear_model/coordinate_descent.py:475: ConvergenceWarning: Objective did not converge. You might want to increase the number of iterations. Duality gap: 46825.55323339719, tolerance: 42615.24014097889\n",
      "  positive)\n",
      "/homes/kalantzi/.local/lib/python3.7/site-packages/sklearn/linear_model/coordinate_descent.py:475: ConvergenceWarning: Objective did not converge. You might want to increase the number of iterations. Duality gap: 46825.55323339719, tolerance: 42615.24014097889\n",
      "  positive)\n",
      "/homes/kalantzi/.local/lib/python3.7/site-packages/sklearn/linear_model/coordinate_descent.py:475: ConvergenceWarning: Objective did not converge. You might want to increase the number of iterations. Duality gap: 172673.4209578781, tolerance: 85172.0897154787\n",
      "  positive)\n",
      "/homes/kalantzi/.local/lib/python3.7/site-packages/sklearn/linear_model/coordinate_descent.py:475: ConvergenceWarning: Objective did not converge. You might want to increase the number of iterations. Duality gap: 172673.4209578781, tolerance: 85172.0897154787\n",
      "  positive)\n",
      "/homes/kalantzi/.local/lib/python3.7/site-packages/sklearn/linear_model/coordinate_descent.py:475: ConvergenceWarning: Objective did not converge. You might want to increase the number of iterations. Duality gap: 767395.9583405277, tolerance: 53462.43384638287\n",
      "  positive)\n",
      "/homes/kalantzi/.local/lib/python3.7/site-packages/sklearn/linear_model/coordinate_descent.py:475: ConvergenceWarning: Objective did not converge. You might want to increase the number of iterations. Duality gap: 767395.9583405277, tolerance: 53462.43384638287\n",
      "  positive)\n",
      "/homes/kalantzi/.local/lib/python3.7/site-packages/sklearn/linear_model/coordinate_descent.py:475: ConvergenceWarning: Objective did not converge. You might want to increase the number of iterations. Duality gap: 583272.5919219926, tolerance: 106580.56572993321\n",
      "  positive)\n",
      "/homes/kalantzi/.local/lib/python3.7/site-packages/sklearn/linear_model/coordinate_descent.py:475: ConvergenceWarning: Objective did not converge. You might want to increase the number of iterations. Duality gap: 583272.5919219926, tolerance: 106580.56572993321\n",
      "  positive)\n",
      "/homes/kalantzi/.local/lib/python3.7/site-packages/sklearn/linear_model/coordinate_descent.py:475: ConvergenceWarning: Objective did not converge. You might want to increase the number of iterations. Duality gap: 322409.2055571079, tolerance: 144712.1362494638\n",
      "  positive)\n",
      "/homes/kalantzi/.local/lib/python3.7/site-packages/sklearn/linear_model/coordinate_descent.py:475: ConvergenceWarning: Objective did not converge. You might want to increase the number of iterations. Duality gap: 322409.2055571079, tolerance: 144712.1362494638\n",
      "  positive)\n",
      "/homes/kalantzi/.local/lib/python3.7/site-packages/sklearn/linear_model/coordinate_descent.py:475: ConvergenceWarning: Objective did not converge. You might want to increase the number of iterations. Duality gap: 242483.8055757148, tolerance: 40983.55168016532\n",
      "  positive)\n",
      "/homes/kalantzi/.local/lib/python3.7/site-packages/sklearn/linear_model/coordinate_descent.py:475: ConvergenceWarning: Objective did not converge. You might want to increase the number of iterations. Duality gap: 242483.8055757148, tolerance: 40983.55168016532\n",
      "  positive)\n"
     ]
    },
    {
     "name": "stdout",
     "output_type": "stream",
     "text": [
      "More than 50 targets are processed\n"
     ]
    },
    {
     "name": "stderr",
     "output_type": "stream",
     "text": [
      "/homes/kalantzi/.local/lib/python3.7/site-packages/sklearn/linear_model/coordinate_descent.py:475: ConvergenceWarning: Objective did not converge. You might want to increase the number of iterations. Duality gap: 10960007.81402142, tolerance: 170363.76161767487\n",
      "  positive)\n",
      "/homes/kalantzi/.local/lib/python3.7/site-packages/sklearn/linear_model/coordinate_descent.py:475: ConvergenceWarning: Objective did not converge. You might want to increase the number of iterations. Duality gap: 10960007.81402142, tolerance: 170363.76161767487\n",
      "  positive)\n",
      "/homes/kalantzi/.local/lib/python3.7/site-packages/sklearn/linear_model/coordinate_descent.py:475: ConvergenceWarning: Objective did not converge. You might want to increase the number of iterations. Duality gap: 3183279.759634439, tolerance: 84666.02697017886\n",
      "  positive)\n",
      "/homes/kalantzi/.local/lib/python3.7/site-packages/sklearn/linear_model/coordinate_descent.py:475: ConvergenceWarning: Objective did not converge. You might want to increase the number of iterations. Duality gap: 3183279.759634439, tolerance: 84666.02697017886\n",
      "  positive)\n",
      "/homes/kalantzi/.local/lib/python3.7/site-packages/sklearn/linear_model/coordinate_descent.py:475: ConvergenceWarning: Objective did not converge. You might want to increase the number of iterations. Duality gap: 227947.97720321268, tolerance: 127849.88923523291\n",
      "  positive)\n",
      "/homes/kalantzi/.local/lib/python3.7/site-packages/sklearn/linear_model/coordinate_descent.py:475: ConvergenceWarning: Objective did not converge. You might want to increase the number of iterations. Duality gap: 227947.97720321268, tolerance: 127849.88923523291\n",
      "  positive)\n",
      "/homes/kalantzi/.local/lib/python3.7/site-packages/sklearn/linear_model/coordinate_descent.py:475: ConvergenceWarning: Objective did not converge. You might want to increase the number of iterations. Duality gap: 1315720.2286818712, tolerance: 47074.54075544222\n",
      "  positive)\n",
      "/homes/kalantzi/.local/lib/python3.7/site-packages/sklearn/linear_model/coordinate_descent.py:475: ConvergenceWarning: Objective did not converge. You might want to increase the number of iterations. Duality gap: 1315720.2286818712, tolerance: 47074.54075544222\n",
      "  positive)\n"
     ]
    },
    {
     "name": "stdout",
     "output_type": "stream",
     "text": [
      "More than 75 targets are processed\n",
      "More than 100 targets are processed\n",
      "Mean score for LR during training = 0.924854\n"
     ]
    }
   ],
   "source": [
    "from sklearn.linear_model import Lasso\n",
    "\n",
    "LR_all = dict()\n",
    "Scores_LR_train=[]\n",
    "count=0\n",
    "for target in Targets:\n",
    "    # define the train set\n",
    "    X_train=[]; Y_train=[]\n",
    "    for point in Interactions:\n",
    "        if point[0]==target:\n",
    "            X_train.append( [int(c) for c in Fingerprints[point[1]] ] )\n",
    "            Y_train.append( float(point[2]) )\n",
    "    # cross validation\n",
    "    param_grid={'alpha':[1, 0.5, 0.1, 0.01]}\n",
    "    cvr = GridSearchCV(Lasso(random_state=2019, max_iter=5000), param_grid, cv=5, n_jobs=3, iid=True)\n",
    "    cvr.fit(X_train, Y_train)\n",
    "    # select best parametrisation\n",
    "    LR = Lasso( alpha= cvr.best_params_['alpha'], max_iter=5000, random_state=2019)\n",
    "    LR.fit(X_train,Y_train)\n",
    "    Scores_LR_train.append( LR.score( X_train,  Y_train))\n",
    "    LR_all[target] = LR\n",
    "#     print(Scores_LR_train[-1])\n",
    "    if count%25==0:print(\"More than %d targets are processed\" % count)\n",
    "    count+=1 \n",
    "\n",
    "print(\"Mean score for LR during training = %f\" % np.mean(Scores_LR_train) )"
   ]
  },
  {
   "cell_type": "code",
   "execution_count": 9,
   "metadata": {},
   "outputs": [
    {
     "name": "stdout",
     "output_type": "stream",
     "text": [
      "1\n",
      "1\n",
      "0.1\n",
      "0.01\n",
      "1\n",
      "0.01\n",
      "0.01\n",
      "0.01\n",
      "0.01\n",
      "1\n",
      "1\n",
      "0.01\n",
      "1\n",
      "1\n",
      "0.01\n",
      "0.01\n",
      "1\n",
      "1\n",
      "0.1\n",
      "0.01\n",
      "1\n",
      "1\n",
      "1\n",
      "1\n",
      "1\n",
      "0.1\n",
      "1\n",
      "0.01\n",
      "0.01\n",
      "1\n",
      "1\n",
      "1\n",
      "1\n",
      "1\n",
      "1\n",
      "0.01\n",
      "0.01\n",
      "1\n",
      "1\n",
      "1\n",
      "1\n",
      "1\n",
      "1\n",
      "1\n",
      "1\n",
      "1\n",
      "0.01\n",
      "1\n",
      "1\n",
      "1\n",
      "1\n",
      "1\n",
      "0.01\n",
      "1\n",
      "1\n",
      "1\n",
      "0.01\n",
      "1\n",
      "1\n",
      "1\n",
      "0.1\n",
      "1\n",
      "1\n",
      "1\n",
      "1\n",
      "1\n",
      "1\n",
      "1\n",
      "1\n",
      "1\n",
      "1\n",
      "1\n",
      "1\n",
      "1\n",
      "1\n",
      "1\n",
      "1\n",
      "1\n",
      "1\n",
      "1\n",
      "1\n",
      "1\n",
      "1\n",
      "1\n",
      "1\n",
      "1\n",
      "1\n",
      "1\n",
      "1\n",
      "1\n",
      "1\n",
      "1\n",
      "1\n",
      "1\n",
      "1\n",
      "1\n",
      "1\n",
      "1\n",
      "1\n",
      "1\n",
      "1\n",
      "1\n",
      "1\n",
      "1\n",
      "1\n",
      "1\n",
      "1\n",
      "1\n",
      "1\n",
      "1\n"
     ]
    }
   ],
   "source": [
    "for model in RFR_all:\n",
    "    print( LR_all[model].get_params()['alpha'])"
   ]
  },
  {
   "cell_type": "markdown",
   "metadata": {},
   "source": [
    "## 4. Evaluation"
   ]
  },
  {
   "cell_type": "code",
   "execution_count": 10,
   "metadata": {
    "scrolled": true
   },
   "outputs": [
    {
     "name": "stdout",
     "output_type": "stream",
     "text": [
      "Performance for LR = 0.860530\n",
      "Performance for RF = 0.356750\n",
      "Performance for NN = 0.651037\n"
     ]
    }
   ],
   "source": [
    "Pred_MLPR = []\n",
    "Pred_RFR  = []\n",
    "Pred_LR = []\n",
    "True_vals = []\n",
    "Pred_pertarget = dict() # contains lists with tuples: (true, pred_RF, pred_NN)\n",
    "\n",
    "with open(\"first_cv_results.txt\",'w') as f:\n",
    "    f.write(\"Target\\tTrue\\tRFR\\tMLPR\\tLR\\n\")\n",
    "    for point in Interactions_valid:\n",
    "        True_vals.append( float(point[2]) )\n",
    "        x_test = np.array( Fingerprints[point[1]] )\n",
    "\n",
    "        model = RFR_all[point[0]]\n",
    "        Pred_RFR.append( model.predict( x_test.reshape(1,-1) ) )\n",
    "\n",
    "        model = MLPR_all[point[0]]\n",
    "        Pred_MLPR.append( model.predict( x_test.reshape(1,-1) ))\n",
    "        \n",
    "        model = LR_all[point[0]]\n",
    "        Pred_LR.append( model.predict( x_test.reshape(1,-1) ))\n",
    "        \n",
    "        f.write(\"{0}\\t{1}\\t{2}\\t{3}\\t{4}\\n\".format(point[0], True_vals[-1], Pred_RFR[-1][0], Pred_MLPR[-1][0], Pred_LR[-1][0]))\n",
    "\n",
    "        if point[0] in Pred_pertarget:\n",
    "            Pred_pertarget[point[0]].append( (True_vals[-1], Pred_RFR[-1][0], Pred_MLPR[-1][0], Pred_LR[-1][0])  )\n",
    "        else:\n",
    "            # first time for this protein\n",
    "            Pred_pertarget[point[0]] = [ (True_vals[-1], Pred_RFR[-1][0], Pred_MLPR[-1][0], Pred_LR[-1][0]) ]\n",
    "            \n",
    "print(\"Performance for LR = %f\" % r2_score(True_vals, Pred_LR))\n",
    "print(\"Performance for RF = %f\" % r2_score(True_vals, Pred_RFR))\n",
    "print(\"Performance for NN = %f\" % r2_score(True_vals, Pred_MLPR))"
   ]
  },
  {
   "cell_type": "code",
   "execution_count": 27,
   "metadata": {},
   "outputs": [
    {
     "name": "stdout",
     "output_type": "stream",
     "text": [
      "1000.0 \t [254.08279739]\n",
      "300.0 \t [480.41402686]\n",
      "584.0 \t [2360.12799629]\n",
      "10.0 \t [53.65552243]\n",
      "35.0 \t [284.7825279]\n",
      "3.0 \t [168.64831657]\n",
      "20.0 \t [4164.60938578]\n",
      "9.0 \t [60.04096456]\n",
      "3000.0 \t [3498.45314235]\n",
      "39.0 \t [420.01060192]\n",
      "15.0 \t [237.40649833]\n",
      "10.0 \t [115.33077626]\n",
      "1000.0 \t [1139.93880038]\n",
      "120.0 \t [703.15528837]\n",
      "60.0 \t [277.3711605]\n",
      "3131.0 \t [859.6618952]\n",
      "230.0 \t [253.15218943]\n",
      "235.0 \t [184.1411234]\n",
      "1000.0 \t [310.20857895]\n",
      "4500.0 \t [5808.09201417]\n",
      "1280.0 \t [103.83361442]\n",
      "271.6 \t [184.14236836]\n",
      "1000.0 \t [198.91278456]\n",
      "72.0 \t [184.1411234]\n",
      "2422.0 \t [1959.25003206]\n",
      "0.5 \t [116.25610237]\n",
      "360.0 \t [253.15218943]\n",
      "1000.0 \t [321.03803717]\n",
      "61.0 \t [269.21484382]\n",
      "6025.6 \t [5182.96855281]\n",
      "710.0 \t [1610.47207924]\n",
      "1000.0 \t [857.42711786]\n",
      "51.5 \t [15.6595935]\n",
      "25.2 \t [202.17149108]\n",
      "67.61 \t [123.8103675]\n",
      "66.0 \t [409.78405553]\n",
      "8.0 \t [159.40934651]\n",
      "14.0 \t [384.88396304]\n",
      "4500.0 \t [4546.47305276]\n",
      "97.0 \t [126.370325]\n",
      "2700.0 \t [3369.40219541]\n",
      "610.0 \t [851.4433682]\n",
      "77.0 \t [115.33076775]\n",
      "5000.0 \t [129.35411806]\n",
      "100.0 \t [218.5699262]\n",
      "30.0 \t [-0.89249601]\n",
      "3.0 \t [250.11152236]\n",
      "1.0 \t [-545.07255665]\n",
      "4.2 \t [235.64366499]\n",
      "576.0 \t [1779.1026881]\n",
      "1044891.8334517671\n",
      "0.6510370682148179\n",
      "521.8833497865968\n"
     ]
    }
   ],
   "source": [
    "for i in range(50):\n",
    "    print(True_vals[i],'\\t', Pred_MLPR[i])\n",
    "print(     MSE( True_vals, Pred_MLPR ))\n",
    "print(r2_score( True_vals, Pred_MLPR ))\n",
    "print(     MAE( True_vals, Pred_MLPR ))"
   ]
  },
  {
   "cell_type": "code",
   "execution_count": 12,
   "metadata": {},
   "outputs": [
    {
     "name": "stdout",
     "output_type": "stream",
     "text": [
      "R2 score for CHEMBL260, LR | RF | NN = 0.9145889017088404 | 0.3871918328453612 | 0.6074261942709349\n",
      "R2 score for CHEMBL4722, LR | RF | NN = 0.8185819247198214 | 0.2921962104062844 | 0.8321281705026897\n",
      "R2 score for CHEMBL2695, LR | RF | NN = 0.9073987152341256 | 0.34736071188915096 | 0.39667921421721586\n",
      "R2 score for CHEMBL3038477, LR | RF | NN = 0.8879191229573999 | 0.7540767692035429 | 0.9582303597985636\n",
      "R2 score for CHEMBL2996, LR | RF | NN = 0.8132025380926408 | 0.19372187968810128 | 0.5124155892899422\n",
      "R2 score for CHEMBL2148, LR | RF | NN = 0.8264847762656582 | 0.4897159899871565 | 0.4755554318325277\n",
      "R2 score for CHEMBL2147, LR | RF | NN = 0.7498578063809017 | 0.2327003411197388 | 0.6394165406647883\n",
      "R2 score for CHEMBL5147, LR | RF | NN = 0.9083482810910783 | 0.4321571850117596 | 0.6702569637929174\n",
      "R2 score for CHEMBL308, LR | RF | NN = 0.9380124094699418 | 0.44933535795541635 | 0.7535177272785836\n",
      "R2 score for CHEMBL3234, LR | RF | NN = 0.9868185367801643 | -0.008646749916507934 | 0.3364532813545613\n",
      "R2 score for CHEMBL4523, LR | RF | NN = 0.6889653935114834 | 0.22570860074200194 | 0.6387779710649335\n",
      "R2 score for CHEMBL2358, LR | RF | NN = 0.7277035828581178 | 0.29994933575658167 | 0.37221729597038944\n",
      "R2 score for CHEMBL1936, LR | RF | NN = 0.8734152167586925 | 0.12692750756914506 | 0.765569194745674\n",
      "R2 score for CHEMBL3629, LR | RF | NN = 0.9950248150050305 | 0.7307439705887842 | 0.9200165312416093\n",
      "R2 score for CHEMBL279, LR | RF | NN = 0.5268409412825433 | 0.2195993851796081 | 0.6951997553946372\n",
      "R2 score for CHEMBL1824, LR | RF | NN = 0.7511253404800792 | 0.2760192040093683 | 0.4366458883110228\n",
      "R2 score for CHEMBL203, LR | RF | NN = 0.6587830489935234 | 0.35224813382918263 | 0.5826399877002375\n",
      "R2 score for CHEMBL1862, LR | RF | NN = 0.9549512610788666 | 0.1758468163563851 | 0.7675590016773872\n",
      "R2 score for CHEMBL3553, LR | RF | NN = 0.8463366543414226 | 0.21566818138049082 | 0.5014441326823489\n",
      "R2 score for CHEMBL3529, LR | RF | NN = 0.992125312651696 | 0.13110221558785695 | 0.8371248826665062\n",
      "R2 score for CHEMBL299, LR | RF | NN = 0.942036919152281 | 0.5019970478806605 | 0.6301230230914805\n",
      "R2 score for CHEMBL4040, LR | RF | NN = 0.9624416992423226 | 0.05149704907867192 | 0.8981137493166287\n",
      "R2 score for CHEMBL2828, LR | RF | NN = 0.9955632216362708 | 0.15331247012026517 | 0.9620315636983598\n",
      "R2 score for CHEMBL2599, LR | RF | NN = 0.9928083408667312 | 0.5855358599398848 | 0.9507298600432599\n",
      "R2 score for CHEMBL3973, LR | RF | NN = 0.540388804379907 | -0.11421009673805282 | -0.0794059145644943\n",
      "R2 score for CHEMBL1957, LR | RF | NN = 0.975437954665077 | 0.4320052333775174 | 0.8767547561032193\n",
      "R2 score for CHEMBL2095942, LR | RF | NN = 0.6597680028937823 | -0.6248084565800496 | 0.9130410981319361\n",
      "R2 score for CHEMBL2185, LR | RF | NN = 0.8840899181977391 | 0.34096619997317157 | 0.8025697291875712\n",
      "R2 score for CHEMBL2094126, LR | RF | NN = 0.9208714726590346 | 0.32706169846724575 | 0.5301139987996184\n",
      "R2 score for CHEMBL2959, LR | RF | NN = 0.9999950897495766 | 0.5293358938749064 | 0.6918684817286413\n",
      "R2 score for CHEMBL4630, LR | RF | NN = 0.9705731842947136 | -0.09086163188447349 | 0.5304644684407236\n",
      "R2 score for CHEMBL1913, LR | RF | NN = 0.9289116017847057 | 0.2965845446900969 | 0.8287039829368769\n",
      "R2 score for CHEMBL3920, LR | RF | NN = 0.9831156413644406 | 0.38669314689167433 | 0.8651205219452274\n",
      "R2 score for CHEMBL1907601, LR | RF | NN = 0.9405165232704783 | 0.4112246084119191 | 0.6490233992563832\n",
      "R2 score for CHEMBL1868, LR | RF | NN = 0.8641653708037185 | 0.19386809758114876 | 0.5630949989009655\n",
      "R2 score for CHEMBL4376, LR | RF | NN = 0.9908035889308489 | 0.12403044232041394 | -0.012115605982810695\n",
      "R2 score for CHEMBL1974, LR | RF | NN = 0.9123782509155661 | 0.6140822479821263 | 0.670584613875184\n",
      "R2 score for CHEMBL2842, LR | RF | NN = 0.9115762162926122 | 0.14845600485373844 | 0.3022829139638823\n",
      "R2 score for CHEMBL3983, LR | RF | NN = 0.8687855797936406 | 0.5157724802144837 | 0.8438451613311014\n",
      "R2 score for CHEMBL1981, LR | RF | NN = 0.9372440265229242 | 0.5171037601149175 | 0.5610657810644888\n",
      "R2 score for CHEMBL2971, LR | RF | NN = 0.6351448041367176 | 0.2627763116099877 | 0.5312424631643\n",
      "R2 score for CHEMBL331, LR | RF | NN = 0.9671819065446906 | 0.5039175694587851 | 0.6635082695357164\n",
      "R2 score for CHEMBL4439, LR | RF | NN = 0.9981829969465953 | -0.015689155082002193 | 0.8983372133320423\n",
      "R2 score for CHEMBL3717, LR | RF | NN = 0.9602202299545123 | 0.3200005260504173 | 0.7744721256273766\n",
      "R2 score for CHEMBL4224, LR | RF | NN = 0.9582007700450027 | -0.0023840736037556987 | 0.3302889377414512\n",
      "R2 score for CHEMBL4070, LR | RF | NN = 0.9979847473300202 | 0.24965758989709674 | 0.9331626568479482\n",
      "R2 score for CHEMBL2637, LR | RF | NN = 0.9705515862303825 | 0.12702455358184628 | 0.6083393328186907\n",
      "R2 score for CHEMBL2276, LR | RF | NN = 0.9279690066517239 | 0.25291135653188923 | 0.6803909767126604\n",
      "R2 score for CHEMBL4282, LR | RF | NN = 0.8355048190842965 | 0.34200123276295913 | 0.777947371957066\n",
      "R2 score for CHEMBL2094138, LR | RF | NN = 0.9737244453966662 | 0.0008141515301425262 | 0.3307011626402121\n",
      "R2 score for CHEMBL301, LR | RF | NN = 0.8679139329451483 | 0.20381147142259703 | 0.6730364129344435\n",
      "R2 score for CHEMBL3582, LR | RF | NN = 0.9909471021464924 | 0.5329924101657135 | 0.6627400934573229\n",
      "R2 score for CHEMBL5408, LR | RF | NN = 0.9630306279557221 | -0.1564968271510898 | 0.6061983636754701\n",
      "R2 score for CHEMBL1907600, LR | RF | NN = 0.8590490423038302 | 0.36807380061722583 | 0.3899878647018943\n",
      "R2 score for CHEMBL1907605, LR | RF | NN = 0.9834901095435185 | 0.2193818802050631 | 0.31452840537069005\n",
      "R2 score for CHEMBL5407, LR | RF | NN = 0.6847694419118815 | -0.16423725197809347 | -0.007393839039075312\n",
      "R2 score for CHEMBL5543, LR | RF | NN = 0.9347053379857573 | 0.27206099603784895 | 0.4875509623025289\n",
      "R2 score for CHEMBL4937, LR | RF | NN = 0.9900133271537176 | 0.5934278753468338 | 0.7732410687981248\n",
      "R2 score for CHEMBL3476, LR | RF | NN = 0.9767566113560106 | 0.24142356077520655 | 0.5724864920313999\n",
      "R2 score for CHEMBL2094127, LR | RF | NN = 0.9544191701871062 | 0.3034514957052733 | 0.696052878931277\n",
      "R2 score for CHEMBL5570, LR | RF | NN = 0.82685126161602 | -23.303849572382394 | -25.63030278510427\n",
      "R2 score for CHEMBL4895, LR | RF | NN = 0.9918160713126302 | -0.12766930892319528 | 0.7390367936275419\n",
      "R2 score for CHEMBL2292, LR | RF | NN = 0.8908663180227808 | 0.18922702140257186 | 0.5529727232714214\n",
      "R2 score for CHEMBL3650, LR | RF | NN = 0.8465535482780107 | 0.5035180920866718 | 0.6465173608355681\n",
      "R2 score for CHEMBL2095217, LR | RF | NN = 0.6671810332053083 | 0.13893018115562938 | 0.2953514985258955\n",
      "R2 score for CHEMBL3231, LR | RF | NN = 0.9164467675611269 | 0.4777143208430482 | 0.7376987877435466\n",
      "R2 score for CHEMBL1906, LR | RF | NN = 0.9968641213106191 | 0.08709143987636325 | 0.6131721257097901\n",
      "R2 score for CHEMBL1844, LR | RF | NN = 0.7127644247418621 | -0.9822272137508015 | 0.6885286950722764\n",
      "R2 score for CHEMBL2363049, LR | RF | NN = 0.9183383916594243 | -0.12771045397813108 | 0.30057610892241005\n",
      "R2 score for CHEMBL3616, LR | RF | NN = 0.8738917572852951 | 0.16428307088970306 | 0.5420432277689596\n",
      "R2 score for CHEMBL4816, LR | RF | NN = 0.9899707402503127 | -0.08358186906980158 | 0.5170311348168874\n",
      "R2 score for CHEMBL3038469, LR | RF | NN = 0.9597850422677895 | 0.5304753215730471 | 0.7882004788613448\n",
      "R2 score for CHEMBL2068, LR | RF | NN = 0.9915530859736577 | 0.5332400366203534 | 0.932424481567223\n",
      "R2 score for CHEMBL2815, LR | RF | NN = 0.9768139564369177 | 0.22952289886776167 | 0.7518080146966897\n",
      "R2 score for CHEMBL4247, LR | RF | NN = 0.9254863432210466 | -0.6817700813002237 | 0.18513028834995604\n",
      "R2 score for CHEMBL2850, LR | RF | NN = 0.9960065196723039 | -0.04089078957696213 | 0.8964528886697269\n",
      "R2 score for CHEMBL2094128, LR | RF | NN = 0.9326991461894549 | 0.2795943680723769 | 0.36223543981088113\n",
      "R2 score for CHEMBL4179, LR | RF | NN = 0.9846015755689064 | 0.16590878271438037 | 0.9351255854347833\n",
      "R2 score for CHEMBL4501, LR | RF | NN = 0.8987858788163295 | 0.1429772242418973 | 0.5157490753805078\n",
      "R2 score for CHEMBL4142, LR | RF | NN = 0.9484106165327613 | 0.7897568083865104 | 0.9065385739164629\n",
      "R2 score for CHEMBL2749, LR | RF | NN = 0.6355540289613432 | 0.19936085852233754 | 0.27940896343017896\n",
      "R2 score for CHEMBL2431, LR | RF | NN = 0.9447704845787879 | -0.08808780181164022 | 0.33911800265324943\n",
      "R2 score for CHEMBL3009, LR | RF | NN = 0.9245636877130345 | 0.4199264424021114 | 0.8619990820494895\n",
      "R2 score for CHEMBL2095227, LR | RF | NN = 0.9708378792212815 | 0.3616999927960971 | 0.7218701348821628\n",
      "R2 score for CHEMBL3142, LR | RF | NN = 0.964117560277856 | 0.3292101933114514 | 0.5323834124879603\n",
      "R2 score for CHEMBL2041, LR | RF | NN = 0.9831806238623232 | -1.0354474444574029 | 0.46153021802220995\n",
      "R2 score for CHEMBL5331, LR | RF | NN = 0.9989305099956759 | 0.7982843945392142 | 0.7920851085829492\n",
      "R2 score for CHEMBL1907602, LR | RF | NN = 0.9713837186210312 | 0.10665340216231434 | 0.643871618880482\n",
      "R2 score for CHEMBL2095188, LR | RF | NN = 0.9297835826716295 | -1.3864994538699325 | 0.7954606738954583\n",
      "R2 score for CHEMBL2208, LR | RF | NN = 0.9818668168547958 | 0.169441897040998 | 0.8532573170025745\n",
      "R2 score for CHEMBL1955, LR | RF | NN = 0.9742082233575245 | 0.7045856794794731 | 0.7913180403945963\n",
      "R2 score for CHEMBL3024, LR | RF | NN = 0.9999993940091437 | 0.41907495265948236 | 0.8588572559660381\n",
      "R2 score for CHEMBL5508, LR | RF | NN = 0.8644147878638974 | -0.005586912817769907 | -0.00900063222916403\n",
      "R2 score for CHEMBL2508, LR | RF | NN = 0.9631084617734416 | 0.44852420510891067 | 0.9002948321679739\n",
      "R2 score for CHEMBL3905, LR | RF | NN = 0.9994035714994536 | 0.1462642376990836 | 0.7282497457946293\n",
      "R2 score for CHEMBL3430907, LR | RF | NN = 0.26816327079233804 | -1.775867192894843 | -0.19379084774870847\n",
      "R2 score for CHEMBL258, LR | RF | NN = 0.966313257712266 | 0.08822737718387563 | 0.6520309138282241\n",
      "R2 score for CHEMBL4898, LR | RF | NN = 0.9592901946706804 | -1.3167780025798472 | 0.3215381209988203\n",
      "R2 score for CHEMBL5491, LR | RF | NN = 0.9998112085472272 | 0.21715285647293714 | 0.7924457392427808\n",
      "R2 score for CHEMBL4036, LR | RF | NN = 0.9955253668289307 | 0.1209543177752147 | 0.8270886852968655\n",
      "R2 score for CHEMBL2111414, LR | RF | NN = 0.9511931875378493 | -2.2164667620142424 | -0.6034460394147074\n",
      "R2 score for CHEMBL3797, LR | RF | NN = 0.9999999910649773 | 0.9808825373931288 | 0.9935741937341568\n",
      "R2 score for CHEMBL3961, LR | RF | NN = 0.9982325628089272 | 0.38337709853182744 | 0.7219142117347592\n",
      "R2 score for CHEMBL2094115, LR | RF | NN = 0.9991735574014724 | -19.057417620298615 | -6.111643246231494\n",
      "R2 score for CHEMBL5314, LR | RF | NN = 0.9702848803540216 | 0.0645879397077761 | 0.87406633710659\n",
      "R2 score for CHEMBL1991, LR | RF | NN = 0.9858631223542392 | -0.06529211611394059 | 0.9542488818144702\n",
      "R2 score for CHEMBL5122, LR | RF | NN = 0.9899252087791559 | 0.5914253999155539 | 0.8032786438944227\n",
      "R2 score for CHEMBL2007, LR | RF | NN = 0.9604045355247658 | 0.45361586266962883 | 0.8101664427354935\n",
      "R2 score for CHEMBL4203, LR | RF | NN = 0.9292962837225427 | -0.08419097686938293 | 0.3466715620836832\n",
      "R2 score for CHEMBL3116, LR | RF | NN = 0.9998842743643399 | -7.997411175212095 | 0.3343163031127099\n",
      "Mean per target R2-score for LR = 0.906390 \n",
      "Mean per target R2-score for RF = -0.300573 \n",
      "Mean per target R2-score for NN = 0.315669 \n"
     ]
    }
   ],
   "source": [
    "Scores_LR_valid_pertarget  = []\n",
    "Scores_RFR_valid_pertarget = []\n",
    "Scores_MLPR_valid_pertarget= []\n",
    "\n",
    "for target in Pred_pertarget:\n",
    "    true=[]\n",
    "    pred_RF=[]; pred_NN=[]; pred_LR=[]\n",
    "    # aggregate predictions\n",
    "    for triplet in Pred_pertarget[target]:\n",
    "        true.append( triplet[0] )\n",
    "        pred_RF.append( triplet[1] )\n",
    "        pred_NN.append( triplet[2] )\n",
    "        pred_LR.append( triplet[3] )\n",
    "    # calculate performance\n",
    "    Scores_LR_valid_pertarget.append(  r2_score(true, pred_LR) )\n",
    "    Scores_RFR_valid_pertarget.append( r2_score(true, pred_RF) )\n",
    "    Scores_MLPR_valid_pertarget.append(r2_score(true, pred_NN) )\n",
    "\n",
    "    print(\"R2 score for {0}, LR | RF | NN = {1} | {2} | {3}\".format(target, Scores_LR_valid_pertarget[-1], Scores_RFR_valid_pertarget[-1], Scores_MLPR_valid_pertarget[-1]))\n",
    "    \n",
    "print(\"Mean per target R2-score for LR = %f \" % np.mean(Scores_LR_valid_pertarget))\n",
    "print(\"Mean per target R2-score for RF = %f \" % np.mean(Scores_RFR_valid_pertarget))\n",
    "print(\"Mean per target R2-score for NN = %f \" % np.mean(Scores_MLPR_valid_pertarget))"
   ]
  },
  {
   "cell_type": "code",
   "execution_count": 13,
   "metadata": {},
   "outputs": [
    {
     "name": "stdout",
     "output_type": "stream",
     "text": [
      "MSE for LR = 646.227929\n",
      "MSE for RF = 1387.828713\n",
      "MSE for NN = 1022.199508\n"
     ]
    }
   ],
   "source": [
    "from sklearn.metrics import mean_squared_log_error as MSLE\n",
    "print(\"MSE for LR = %f\" % np.sqrt( MSE(True_vals, Pred_LR)) )\n",
    "print(\"MSE for RF = %f\" % np.sqrt( MSE(True_vals, Pred_RFR)) )\n",
    "print(\"MSE for NN = %f\" % np.sqrt( MSE(True_vals, Pred_MLPR)))"
   ]
  },
  {
   "cell_type": "code",
   "execution_count": 14,
   "metadata": {},
   "outputs": [
    {
     "data": {
      "image/png": "[encoded data removed]",
      "text/plain": [
       "<Figure size 1080x360 with 1 Axes>"
      ]
     },
     "metadata": {
      "needs_background": "light"
     },
     "output_type": "display_data"
    }
   ],
   "source": [
    "Scores_LR_valid = []\n",
    "Scores_RFR_valid = []\n",
    "Scores_MLPR_valid= []\n",
    "for i in range(len(Interactions_valid)):\n",
    "    Scores_LR_valid.append( np.abs( float(Interactions_valid[i][2]) - Pred_LR[i][0])/float(Interactions_valid[i][2]) )\n",
    "    Scores_RFR_valid.append( np.abs( float(Interactions_valid[i][2]) - Pred_RFR[i][0])/float(Interactions_valid[i][2]) )\n",
    "    Scores_MLPR_valid.append( np.abs( float(Interactions_valid[i][2]) - Pred_MLPR[i][0])/float(Interactions_valid[i][2]) )\n",
    "\n",
    "plt.figure(figsize=(15,5))\n",
    "plt.plot(Scores_LR_valid,'g', label='LR')\n",
    "plt.plot(Scores_RFR_valid,'b', label='RF')\n",
    "plt.plot(Scores_MLPR_valid,'r', label='NN')\n",
    "plt.legend(loc=1)\n",
    "plt.xlabel('Protein sets')\n",
    "plt.ylabel('Residuals')\n",
    "plt.title(\"MAE on validation set\")\n",
    "plt.show()"
   ]
  },
  {
   "cell_type": "code",
   "execution_count": 15,
   "metadata": {},
   "outputs": [
    {
     "data": {
      "image/png": "[encoded data removed]",
      "text/plain": [
       "<Figure size 432x288 with 1 Axes>"
      ]
     },
     "metadata": {
      "needs_background": "light"
     },
     "output_type": "display_data"
    }
   ],
   "source": [
    "plt.figure()\n",
    "plt.plot(Scores_LR_train,'g', label='LR')\n",
    "plt.axhline(np.mean(Scores_LR_train),color='g', linestyle='--')\n",
    "plt.plot(Scores_RFR_train,'b', label='RF')\n",
    "plt.axhline(np.mean(Scores_RFR_train),color='b', linestyle='--')\n",
    "plt.plot(Scores_MLPR_train,'r', label='NN')\n",
    "plt.axhline(np.mean(Scores_MLPR_train),color='r', linestyle='--')\n",
    "plt.legend(loc=1)\n",
    "plt.xlabel('Protein sets')\n",
    "plt.ylabel('R2 score')\n",
    "plt.title(\"Training Performance\")\n",
    "plt.savefig(\"Train-all.png\")\n",
    "plt.show()"
   ]
  },
  {
   "cell_type": "code",
   "execution_count": 18,
   "metadata": {},
   "outputs": [
    {
     "data": {
      "image/png": "[encoded data removed]",
      "text/plain": [
       "<Figure size 432x288 with 1 Axes>"
      ]
     },
     "metadata": {
      "needs_background": "light"
     },
     "output_type": "display_data"
    }
   ],
   "source": [
    "plt.figure()\n",
    "plt.plot(Scores_LR_valid_pertarget,'g', label='LR')\n",
    "plt.plot(Scores_RFR_valid_pertarget,'b', label='RF')\n",
    "plt.plot(Scores_MLPR_valid_pertarget,'r', label='NN')\n",
    "plt.legend(loc=4)\n",
    "plt.xlabel('Protein sets')\n",
    "plt.ylabel('R2 score')\n",
    "plt.title(\"Validation Performance\")\n",
    "plt.savefig(\"Valid-LR.RF.NN.png\")\n",
    "plt.show()"
   ]
  },
  {
   "cell_type": "code",
   "execution_count": 25,
   "metadata": {},
   "outputs": [
    {
     "data": {
      "image/png": "[encoded data removed]",
      "text/plain": [
       "<Figure size 432x288 with 1 Axes>"
      ]
     },
     "metadata": {
      "needs_background": "light"
     },
     "output_type": "display_data"
    }
   ],
   "source": [
    "plt.figure()\n",
    "plt.plot([x for x in Scores_LR_valid_pertarget if x> -1],'g', label='LR')\n",
    "plt.axhline(np.mean(Scores_LR_valid_pertarget),color='g', linestyle='--')\n",
    "\n",
    "plt.plot([x for x in Scores_RFR_valid_pertarget if x> -1],'b', label='RF')\n",
    "plt.axhline(np.mean(Scores_RFR_valid_pertarget),color='b', linestyle='--')\n",
    "\n",
    "plt.plot([x for x in Scores_MLPR_valid_pertarget if x> -1],'r', label='NN')\n",
    "plt.axhline(np.mean(Scores_MLPR_valid_pertarget),color='r', linestyle='--')\n",
    "\n",
    "plt.legend(loc=4)\n",
    "plt.xlabel('Protein sets')\n",
    "plt.ylabel('R2 score')\n",
    "plt.title(\"Validation Performance\")\n",
    "plt.savefig(\"Valid-filtered.png\")\n",
    "plt.show()"
   ]
  },
  {
   "cell_type": "code",
   "execution_count": 24,
   "metadata": {},
   "outputs": [
    {
     "data": {
      "text/plain": [
       "521.8833497865968"
      ]
     },
     "execution_count": 24,
     "metadata": {},
     "output_type": "execute_result"
    }
   ],
   "source": [
    "from sklearn.metrics import mean_absolute_error as MAE\n",
    "MAE(True_vals, Pred_MLPR)"
   ]
  }
 ],
 "metadata": {
  "kernelspec": {
   "display_name": "Python 3",
   "language": "python",
   "name": "python3"
  },
  "language_info": {
   "codemirror_mode": {
    "name": "ipython",
    "version": 3
   },
   "file_extension": ".py",
   "mimetype": "text/x-python",
   "name": "python",
   "nbconvert_exporter": "python",
   "pygments_lexer": "ipython3",
   "version": "3.7.4"
  }
 },
 "nbformat": 4,
 "nbformat_minor": 2
}
