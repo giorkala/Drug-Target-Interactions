{
 "cells": [
  {
   "cell_type": "markdown",
   "metadata": {},
   "source": [
    "## Fetch data, preprocess and partition to train/test sets\n",
    "This notebook requires only the file **kinases.csv** that contains IDs for all 797 kinases. It uses _chembl API_ to download data (a really slow procedure) or load from previously created files. Please set value for `DOWNLOAD` accordingly. It proceeds with data filtering and partitioning to train-test sets for fair evaluation. What misses this script is the calculation of fingerprints using RDkit because of inconsistency with python versions."
   ]
  },
  {
   "cell_type": "markdown",
   "metadata": {},
   "source": [
    "### 0. Prerequisites"
   ]
  },
  {
   "cell_type": "code",
   "execution_count": 1,
   "metadata": {},
   "outputs": [],
   "source": [
    "from chembl_webresource_client.new_client import new_client\n",
    "import csv\n",
    "from matplotlib import pyplot as plt\n",
    "import numpy as np\n",
    "import pandas as pd\n",
    "\n",
    "DOWNLOAD = False # True #   \n",
    "N=100 # min number of interactions to select per target\n",
    "\n",
    "Targets=[]\n",
    "Interactions = []\n",
    "targets_to_compounds = dict()\n",
    "with open('kinases.csv', 'r') as csvfile:\n",
    "    reader = csv.reader(csvfile)\n",
    "    for row in reader:\n",
    "        Targets.append(row[0])\n",
    "        targets_to_compounds[row[0]] = []"
   ]
  },
  {
   "cell_type": "markdown",
   "metadata": {},
   "source": [
    "### 1a. Download data\n",
    "For every target we create a set of _interactions_. Every interaction is a list containing the compound-ID, the type of metric (IC50, Inhibition etc) and the value. We fetch only those activities that have positive values, i.e. `standard_value__isnull=False`\n",
    "\n",
    "We also create a tab-separated-values file, one line per activity, containing the information **Target-ID, Compound-ID, Type, Value**."
   ]
  },
  {
   "cell_type": "code",
   "execution_count": 2,
   "metadata": {},
   "outputs": [],
   "source": [
    "if DOWNLOAD:\n",
    "    activity = new_client.activity\n",
    "    count = 0\n",
    "    for current in Targets:\n",
    "        activities = activity.filter(target_chembl_id=current,standard_value__isnull=False).only('molecule_chembl_id','standard_type','standard_value')\n",
    "#         targets_to_compounds[current]=set()\n",
    "        for x in activities:\n",
    "            targets_to_compounds[current].append( x['molecule_chembl_id'].encode(\"ascii\") )\n",
    "            Interactions.append( [ current,x['molecule_chembl_id'].encode(\"ascii\"), x['standard_type'].encode(\"ascii\"),x['standard_value'].encode(\"ascii\")] )\n",
    "        count+=1\n",
    "        if count%50==0:print(\"More than %d targets are processed\" % count)\n",
    "\n",
    "    with open(\"interactions_kinases_val.tab\", 'w') as file:\n",
    "        file.write(\"Target\\tCompound\\tType\\tValue\\n\")\n",
    "        for x in Interactions:\n",
    "            file.write(\"{0}\\t{1}\\t{2}\\t{3}\\n\".format(x[0],x[1],x[2],x[3]) )"
   ]
  },
  {
   "cell_type": "markdown",
   "metadata": {},
   "source": [
    "#### Get SMILES for each compound in the data set\n",
    "After getting all the interactions, assign SMILES to the compounds and write to disk. If a compound doesn't have such a representation, assign it with \"None\". _After this cell, one would normally need the script to calculate fingerprints using RDkit_."
   ]
  },
  {
   "cell_type": "code",
   "execution_count": 3,
   "metadata": {},
   "outputs": [],
   "source": [
    "if DOWNLOAD:\n",
    "    Compounds = set(x[1] for x in Interactions) # we work for all the compounds available in the data set \n",
    "    Compounds = list( Compounds )\n",
    "\n",
    "    molecule = new_client.molecule\n",
    "\n",
    "    NoSmile=[]\n",
    "    Smiles=dict()\n",
    "    # save = open(\"Compound_SMILES_\"+str(len(Compounds))+\".tab\", 'w')\n",
    "    save = open(\"Compound_SMILES.tab\", 'w')\n",
    "    # save.write(\"Compound-ID\\tSMILES\\tFingerprint\\n\")\n",
    "    for i in range(len(Compounds)):    \n",
    "        m = molecule.get( Compounds[i] )\n",
    "        if m['molecule_structures'] is None:\n",
    "            NoSmile.append(Compounds[i])\n",
    "            smi=\"None\"\n",
    "        else:\n",
    "            smi=m['molecule_structures']['canonical_smiles']\n",
    "        Smiles[Compounds[i]] = smi\n",
    "        save.write( Compounds[i]+\"\\t\"+smi+\"\\t\"+\"\\n\" )\n",
    "    save.close()\n",
    "    \n",
    "    print(\"No SMILES were found for %d compounds!\" % len(NoSmile))\n",
    "    with open('NoSMILES.txt','w') as f:\n",
    "        for mol in NoSmile:\n",
    "            f.write(mol+'\\n')"
   ]
  },
  {
   "cell_type": "markdown",
   "metadata": {},
   "source": [
    "### 1b. Or load data from the disk"
   ]
  },
  {
   "cell_type": "code",
   "execution_count": 4,
   "metadata": {},
   "outputs": [
    {
     "name": "stdout",
     "output_type": "stream",
     "text": [
      "155165 fingerprints were loaded!\n"
     ]
    }
   ],
   "source": [
    "if ~DOWNLOAD:    \n",
    "    Interactions = []\n",
    "    with open(\"interactions_kinases_all.tab\", 'r') as file:\n",
    "        first_line = file.readline()\n",
    "        for line in file:\n",
    "            tokens = line.split('\\t')\n",
    "            # each line is \"Target Compound Type Value\"\n",
    "            Interactions.append( [tokens[0], tokens[1],tokens[2], float(tokens[3])] )\n",
    "#             targets_to_compounds[ line.split()[0] ].append( line.split()[1] ) # we dont need this probably....\n",
    "    \n",
    "    Fingerprints=dict()\n",
    "    with open(\"Compound_Fingerprints.tab\") as file:\n",
    "        for line in file:\n",
    "            tokens = line.split()\n",
    "            Fingerprints[tokens[0]] = tokens[2]\n",
    "#             if tokens[2] != \"NOFP\":\n",
    "#                 Fingerprints[tokens[0]]=tokens[2]\n",
    "    print(\"%d fingerprints were loaded!\" % len(Fingerprints))"
   ]
  },
  {
   "cell_type": "markdown",
   "metadata": {},
   "source": [
    "### 2. Process\n",
    "Continue by counting the total number of compounds and other statistics."
   ]
  },
  {
   "cell_type": "code",
   "execution_count": 5,
   "metadata": {
    "scrolled": true
   },
   "outputs": [
    {
     "name": "stdout",
     "output_type": "stream",
     "text": [
      "There are 797 targets and 155165 compounds currently loaded with 721400 interactions.\n",
      "A DTI matrix would be 0.5833% dense!\n",
      "Type of activity with the most occurencies:\n",
      "('IC50', 188815)\n"
     ]
    }
   ],
   "source": [
    "Compounds = set()\n",
    "for x in Interactions:\n",
    "    Compounds.add(x[1])\n",
    "Compounds = list(Compounds)\n",
    "\n",
    "print(\"There are {0} targets and {1} compounds currently loaded with {2} interactions.\".format(len(Targets),len(Compounds),len(Interactions)))\n",
    "print(\"A DTI matrix would be {0:.4}% dense!\".format(100.0*len(Interactions)/len(Targets)/len(Compounds) ))\n",
    "\n",
    "Types=dict()\n",
    "for x in Interactions:\n",
    "    if x[2] in Types:\n",
    "        Types[ x[2] ] += 1\n",
    "    else:\n",
    "        Types[ x[2] ] = 1\n",
    "        \n",
    "vals = Types.values()\n",
    "vals.sort(reverse=True)\n",
    "labels = [Types.keys()[Types.values().index(x)] for x in vals]\n",
    "\n",
    "print('Type of activity with the most occurencies:')\n",
    "best = Types.keys()[ Types.values().index( max(Types.values())) ]\n",
    "print(best, Types[best])"
   ]
  },
  {
   "cell_type": "code",
   "execution_count": 6,
   "metadata": {
    "scrolled": true
   },
   "outputs": [
    {
     "data": {
      "image/png": "[encoded data removed]",
      "text/plain": [
       "<Figure size 864x504 with 1 Axes>"
      ]
     },
     "metadata": {
      "needs_background": "light"
     },
     "output_type": "display_data"
    }
   ],
   "source": [
    "N=6 # number of types to print\n",
    "fig, ax1 = plt.subplots(figsize=(12, 7))\n",
    "rects = ax1.barh(range(N), vals[:N], height=0.5, align='center', tick_label=labels[:N])\n",
    "ax1.set_title(\"Absolut count per type of activity - Top {0}\".format(N))\n",
    "plt.savefig(\"activities-all.png\")\n",
    "plt.show()"
   ]
  },
  {
   "cell_type": "markdown",
   "metadata": {},
   "source": [
    "### 3. Filter targets \n",
    "* From the complete list of interactions we select those with IC50 - this has the highest frequency and is saved as `best`. \n",
    "* We keep those with compounts for which there is a SMILES representation and IC50<10000\n",
    "\n",
    "* If there are still duplicates between the same target-compound pair we keep the one with the lowest value. \n",
    "\n",
    "* Afterwards, we select only those targets that have at least 100 known interactions.\n",
    "\n",
    "* We also select only those compounds that share interactions with at least two targets \n",
    "\n",
    "    * _The last two steps need to be done iteratively!_\n",
    "\n",
    "Active is determined as in https://druggablegenome.net/ProteinFam"
   ]
  },
  {
   "cell_type": "code",
   "execution_count": 7,
   "metadata": {},
   "outputs": [
    {
     "name": "stdout",
     "output_type": "stream",
     "text": [
      "All with IC50 = 188815\n",
      "Upper thres = 153223\n",
      "With fingerprint = 153179 \n",
      "No duplicates = 129354\n",
      "Filtered 2+ = 70571\n",
      "Filtered 100+ = 64134\n",
      "RE-Filtered 2+ = 62656\n"
     ]
    }
   ],
   "source": [
    "indices=[]\n",
    "for i in range(len(Interactions)):\n",
    "    if Interactions[i][2] == best:\n",
    "        indices.append(i) \n",
    "if len(indices)!=Types[best]: print(\"Something is wrong!\")\n",
    "\n",
    "# Initialise data-frame by selecting only those activities with \"best\" type\n",
    "DF = pd.DataFrame([Interactions[x] for x in indices], columns =['Target-ID', 'Compound-ID', 'Std-type', 'Std-value']) \n",
    "DF = DF.drop('Std-type',axis=1) # we omit this column as we have only 1 type now\n",
    "print(\"All with IC50 = %d\" % DF.shape[0]) # what we have initially\n",
    "\n",
    "# remove activities with huge values\n",
    "DF = DF[DF['Std-value']<10000]\n",
    "print(\"Upper thres = %d\" % DF.shape[0])\n",
    "\n",
    "# insert a new variable with the smiles for each compound\n",
    "DF['Fingerprint'] = [Fingerprints[cid] for cid in DF['Compound-ID']]\n",
    "# remove activities with compounds that dont smile\n",
    "DF = DF[DF['Fingerprint']!='NOFP']\n",
    "print(\"With fingerprint = %d \" % DF.shape[0])\n",
    "\n",
    "# insert a new variable indicating active-decoys\n",
    "DF['Active'] = [ 1 if float(stdv)<=30 else 0 for stdv in DF['Std-value']]\n",
    "\n",
    "# Drop duplicate activities keeping the activity with lower concentration for each molecule-target pair\n",
    "DF.sort_values(by=['Target-ID','Compound-ID','Std-value'], ascending=True)\n",
    "DF = DF.drop_duplicates(subset=['Target-ID','Compound-ID'], keep='first')\n",
    "print(\"No duplicates = %d\" % DF.shape[0])\n",
    "\n",
    "# select compounds with more than 2 interactions:\n",
    "temp = DF.groupby(['Compound-ID']).agg('count') # count the number of molecules\n",
    "temp = temp[temp['Active'] > 1] # runs 0:N_compounds - the column 'Active' doesn't matter, we just aggregate\n",
    "tokeep = [x.encode(\"ascii\") for x in temp.index] # get the IDs\n",
    "DF = DF[DF['Compound-ID'].isin(tokeep)] # filter-out\n",
    "print(\"Filtered 2+ = %d\" % DF.shape[0])\n",
    "\n",
    "# select targets with more than N interactions:\n",
    "temp = DF.groupby(['Target-ID']).agg('count') # count the number of molecules\n",
    "temp = temp[temp['Active'] > 100] # runs 0:N_targets - the column 'Active' doesn't matter, we just aggregate\n",
    "tokeep = [x.encode(\"ascii\") for x in temp.index] # get the IDs\n",
    "DF = DF[DF['Target-ID'].isin(tokeep)] # filter-out\n",
    "print(\"Filtered 100+ = %d\" % DF.shape[0])\n",
    "\n",
    "# filter again for compounds as some have been removed because of last step\n",
    "temp = DF.groupby(['Compound-ID']).agg('count') # count the number of molecules\n",
    "temp = temp[temp['Active'] > 1] # runs 0:N_targets - the column 'Active' doesn't matter, we just aggregate\n",
    "tokeep = [x.encode(\"ascii\") for x in temp.index] # get the IDs\n",
    "DF = DF[DF['Compound-ID'].isin(tokeep)] # filter-out\n",
    "print(\"RE-Filtered 2+ = %d\" % DF.shape[0])\n",
    "\n",
    "# update dataframe:\n",
    "DF = DF.reset_index(); DF = DF.drop('index', axis=1)\n",
    "\n",
    "# check for targets with only a few interactions\n",
    "temp = DF.groupby(['Target-ID']).agg('count') # count the number of molecules\n",
    "temp = temp[temp['Active'] < 50]\n",
    "if temp.shape[0]>0:\n",
    "    print(\"WARNING: There are targets with less than 50 interactions!\")"
   ]
  },
  {
   "cell_type": "code",
   "execution_count": 8,
   "metadata": {},
   "outputs": [
    {
     "name": "stdout",
     "output_type": "stream",
     "text": [
      "110 targets and 23361 compounds with a total of 62656 interactions have remained.\n",
      "A DTI matrix would be 2.438% dense!\n",
      "Number of Actives/Decoys = 21262 / 41394\n",
      "Average # molecules per target = 569.600000\n",
      "Average # targets per molecule = 2.682077\n"
     ]
    }
   ],
   "source": [
    "# Now print some new statistics for the post-preprocessing data.\n",
    "Targets = np.unique(DF['Target-ID'])\n",
    "Compounds = np.unique(DF['Compound-ID'])\n",
    "print(\"{0} targets and {1} compounds with a total of {2} interactions have remained.\".format(len(Targets),len(Compounds),DF.shape[0]))\n",
    "print(\"A DTI matrix would be {0:.4}% dense!\".format(100.0*DF.shape[0]/len(Targets)/len(Compounds) ))\n",
    "print(\"Number of Actives/Decoys = {0} / {1}\".format(np.sum(DF['Active']),sum(DF['Active']<1)) )\n",
    "\n",
    "temp = DF.groupby(['Target-ID']).agg('count') # count the number of molecules\n",
    "print(\"Average # molecules per target = %f\" % np.mean(list(temp.iloc[:,1])) ) \n",
    "\n",
    "temp = DF.groupby(['Compound-ID']).agg('count') # count the number of molecules\n",
    "print(\"Average # targets per molecule = %f\" % np.mean(list(temp.iloc[:,1])) ) "
   ]
  },
  {
   "cell_type": "markdown",
   "metadata": {},
   "source": [
    "### 4. Partition data to train/test sets and save to disk\n",
    "Since the decoys are far more than the active compounds, in order to make a fair evaluation procedure, we need to select a testing set that is balanced. For that reason we randomly select 5% of the total number from each class to form a balanced validation set with 10% of the total data points. The file with the test set will be _hidden_ until the final evaluation."
   ]
  },
  {
   "cell_type": "code",
   "execution_count": 9,
   "metadata": {},
   "outputs": [
    {
     "name": "stdout",
     "output_type": "stream",
     "text": [
      "Number of hidden Active/Decoys = 3132 / 3132\n",
      "The data set is ready!\n"
     ]
    }
   ],
   "source": [
    "random_seed = 2019\n",
    "np.random.seed(random_seed)\n",
    "\n",
    "# split = int(np.floor(0.25 * DF.shape[0] ))\n",
    "active   = [ x for x in range(DF.shape[0]) if DF['Active'][x]==1 ] \n",
    "inactive = [ x for x in range(DF.shape[0]) if DF['Active'][x]==0 ] \n",
    "\n",
    "# compute the number of items from each case required for balance\n",
    "split = int(np.floor( 0.05*( len(inactive) + len(active)) ))\n",
    "# splitB = int(np.floor( 0.1*( len(inactive) + len(active)) ))\n",
    "print(\"Number of hidden Active/Decoys = {0} / {1}\".format( split, split ))\n",
    "\n",
    "# split the active interactions in train-test sets\n",
    "np.random.shuffle( active ) # this happens in-place\n",
    "train_indices = active[split:]\n",
    "test_indices  = active[:split]\n",
    "\n",
    "# do the same for the inactive\n",
    "np.random.shuffle( inactive ) # this happens in-place\n",
    "train_indices.extend( inactive[split:] )\n",
    "test_indices.extend(  inactive[:split] )\n",
    "\n",
    "# remove unecessary columns\n",
    "DF = DF.drop(['Fingerprint','Active'], axis=1)\n",
    "\n",
    "# now partition and save to files\n",
    "temp = DF.loc[train_indices]\n",
    "temp.to_csv(\"interactions_kinases_\"+best+\"_train.tab\", sep='\\t', index=None)\n",
    "\n",
    "temp = DF.loc[test_indices]\n",
    "temp.to_csv(\"interactions_kinases_\"+best+\"_test.tab\", sep='\\t', index=None)\n",
    "\n",
    "# check for mistakes\n",
    "intersect = [x for x in train_indices if x in test_indices]\n",
    "if len(intersect)>0: \n",
    "    print(\"There are rows shared by both sets...\")\n",
    "else:\n",
    "    print(\"The data set is ready!\")"
   ]
  },
  {
   "cell_type": "markdown",
   "metadata": {},
   "source": [
    "### Appendix - old ways of doing stuff"
   ]
  },
  {
   "cell_type": "code",
   "execution_count": 10,
   "metadata": {},
   "outputs": [],
   "source": [
    "# DF['Std-value'] = pd.to_numeric( DF['Std-value'] )\n",
    "# DF = DF.sort_values(by='Std value', ascending=True)\n",
    "\n",
    "#     current = targets_to_compounds.keys()[i]\n",
    "#     for x in activities:\n",
    "#         targets_to_compounds[current].add( x['molecule_chembl_id'].encode(\"ascii\") )#.encode(\"ascii\") )\n",
    "# #         Interactions.append( [ current,x['molecule_chembl_id'],x['pchembl_value'] ] )\n",
    "#         Interactions.append( [ current,x['molecule_chembl_id'].encode(\"ascii\") ] )\n",
    "#     targets_to_compounds[current].add([x['molecule_chembl_id'].encode(\"ascii\") for x in activities])\n",
    "#     print(current, len(targets_to_compounds[current]))\n",
    "\n",
    "# # write a file with training data\n",
    "# with open(\"interactions_kinases_\"+best+\"_train.tab\", 'w') as file:\n",
    "#     file.write(\"Target\\tCompound\\tType\\tValue\\n\")\n",
    "#     for indx in train_indices:\n",
    "#         x = Interactions[indx]\n",
    "#         file.write(\"{0}\\t{1}\\t{2}\\t{3}\\n\".format(x[0],x[1],x[2],x[3]) )\n",
    "\n",
    "# # write a file with testing data\n",
    "# with open(\"interactions_kinases_\"+best+\"_test.tab\", 'w') as file:\n",
    "#     file.write(\"Target\\tCompound\\tType\\tValue\\n\")\n",
    "#     for indx in test_indices:\n",
    "#         x = Interactions[indx]\n",
    "#         file.write(\"{0}\\t{1}\\t{2}\\t{3}\\n\".format(x[0],x[1],x[2],x[3]) )\n",
    "\n",
    "# np.random.shuffle( indices ) # this happens in-place\n",
    "# train_indices, test_indices = indices[split:], indices[:split]"
   ]
  }
 ],
 "metadata": {
  "kernelspec": {
   "display_name": "Python 2",
   "language": "python",
   "name": "python2"
  },
  "language_info": {
   "codemirror_mode": {
    "name": "ipython",
    "version": 2
   },
   "file_extension": ".py",
   "mimetype": "text/x-python",
   "name": "python",
   "nbconvert_exporter": "python",
   "pygments_lexer": "ipython2",
   "version": "2.7.16"
  }
 },
 "nbformat": 4,
 "nbformat_minor": 2
}
