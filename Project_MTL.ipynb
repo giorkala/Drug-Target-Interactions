{
 "cells": [
  {
   "cell_type": "markdown",
   "metadata": {},
   "source": [
    "## Train and evaluate the MTL model"
   ]
  },
  {
   "cell_type": "code",
   "execution_count": 1,
   "metadata": {},
   "outputs": [
    {
     "name": "stderr",
     "output_type": "stream",
     "text": [
      "Using TensorFlow backend.\n"
     ]
    }
   ],
   "source": [
    "import keras \n",
    "import keras.backend as K\n",
    "import numpy as np\n",
    "import pandas as pd\n",
    "from keras.models import Sequential\n",
    "from keras.layers import Dense\n",
    "from keras import regularizers\n",
    "from keras.wrappers.scikit_learn import KerasRegressor # this is for making a model like every other in scikit\n",
    "from sklearn.metrics import mean_squared_error as MSE\n",
    "from sklearn.metrics import mean_absolute_error as MAE\n",
    "from sklearn.metrics import r2_score\n",
    "from sklearn.preprocessing import StandardScaler\n",
    "from time import time\n",
    "import matplotlib.pyplot as plt\n",
    "\n",
    "from keras.models import Model\n",
    "from sklearn.model_selection import GridSearchCV\n",
    "\n",
    "# import tensorflow as tf"
   ]
  },
  {
   "cell_type": "markdown",
   "metadata": {},
   "source": [
    "### Load data"
   ]
  },
  {
   "cell_type": "code",
   "execution_count": 2,
   "metadata": {},
   "outputs": [
    {
     "name": "stdout",
     "output_type": "stream",
     "text": [
      "There are 110 targets and 23167 compounds currently loaded with 56392 interactions.\n",
      "A DTI matrix would be 2.213% dense!\n",
      "New data: -4.604582905766776 | 2.5887050795505413\n",
      "23167 fingerprints were loaded!\n",
      "The sizes for train and validation sets are 45114 and 11278 respectivelly\n"
     ]
    }
   ],
   "source": [
    "Interactions_train = []    \n",
    "with open(\"Interactions_Trainset.tab\",'r') as f:\n",
    "    for line in f:\n",
    "        tokens = line.split()\n",
    "        # 'Target-ID', 'Compound-ID', 'pIC50'  \n",
    "        Interactions_train.append( [tokens[0], tokens[1], float(tokens[2]) ])\n",
    "\n",
    "Interactions_valid = []        \n",
    "with open(\"Interactions_Validset.tab\",'r') as f:\n",
    "    for line in f:\n",
    "        tokens = line.split()\n",
    "        # 'Target-ID', 'Compound-ID', 'pIC50'  \n",
    "        Interactions_valid.append( [tokens[0], tokens[1], float(tokens[2]) ])\n",
    "\n",
    "Interactions = [x for x in Interactions_train]\n",
    "Interactions.extend(Interactions_valid)\n",
    "# we use a dataframe to quickly sort targets wrt #compounds:\n",
    "DF = pd.DataFrame( Interactions, columns =['Target-ID', 'Compound-ID','Std-value']) \n",
    "temp = DF.groupby(['Target-ID']).agg('count').sort_values(by='Compound-ID') # count the number of molecules\n",
    "Targets = list(temp.index)\n",
    "Compounds = np.unique(DF['Compound-ID'])\n",
    "del temp, DF\n",
    "\n",
    "nT=len(Targets); nC=len(Compounds)\n",
    "\n",
    "print(\"There are {0} targets and {1} compounds currently loaded with {2} interactions.\".format(nT,nC,len(Interactions)))\n",
    "print(\"A DTI matrix would be {0:.4}% dense!\".format(100.0*len(Interactions)/nT/nC ))\n",
    "\n",
    "Labels_Targ = dict()\n",
    "indx=0\n",
    "for x in Targets:\n",
    "    Labels_Targ[x]=indx\n",
    "    indx+=1\n",
    "    \n",
    "Labels_Comp = dict()\n",
    "indx=0\n",
    "for x in Compounds:\n",
    "    Labels_Comp[x]=indx\n",
    "    indx+=1\n",
    "\n",
    "# Initialize sparse matrix - this will be binary\n",
    "DTI = 10*np.ones((nC,nT),dtype=float)\n",
    "\n",
    "for edge in Interactions_train:\n",
    "    # each edge has \"target-compound-value-active\"\n",
    "    DTI[ Labels_Comp[edge[1]], Labels_Targ[edge[0]] ] = edge[2]\n",
    "\n",
    "values = [x[2] for x in Interactions]\n",
    "print(\"New data: {0} | {1}\".format(np.mean(values), np.std(values)))\n",
    "\n",
    "# load fingerprints and prepare as feature vectors\n",
    "Fingerprints={} # this contains one list per fingerprint - not efficient...\n",
    "with open('Compound_Fingerprints.tab', 'r') as f:\n",
    "    header = f.readline()\n",
    "    for line in f:\n",
    "        # each line is Comp-ID, SMILES, FP\n",
    "        tokens = line.split()\n",
    "        # we keep only those compounds which have FPs\n",
    "        if tokens[2] != 'NOFP':\n",
    "            fp = [int(c) for c in tokens[2] ]\n",
    "            Fingerprints[ tokens[0] ] = fp\n",
    "print(\"%d fingerprints were loaded!\" % len(Fingerprints))\n",
    "\n",
    "# split to train/test data\n",
    "random_seed = 2019\n",
    "np.random.seed(random_seed)\n",
    "\n",
    "\n",
    "\n",
    "print(\"The sizes for train and validation sets are {0} and {1} respectivelly\".format( len(Interactions_train), len(Interactions_valid) ))"
   ]
  },
  {
   "cell_type": "code",
   "execution_count": 3,
   "metadata": {},
   "outputs": [
    {
     "data": {
      "text/plain": [
       "(23167, 110)"
      ]
     },
     "execution_count": 3,
     "metadata": {},
     "output_type": "execute_result"
    }
   ],
   "source": [
    "def MTL(lamda=0.02, wsl=200, whl=20, lr=0.0001):\n",
    "    inputs = keras.Input(shape=(2048,))\n",
    "    sharedlayer = keras.layers.Dense(wsl, activation='tanh',kernel_regularizer=regularizers.l2(lamda) )(inputs) \n",
    "    myinit = keras.initializers.Constant(-4.)\n",
    "    hidden = []\n",
    "    for i in range(len(Targets)):\n",
    "        hl = Dense(units=whl,  activation='tanh', kernel_regularizer=regularizers.l2(lamda) )(sharedlayer)\n",
    "        hidden.append( Dense(1, kernel_initializer=myinit, activity_regularizer=regularizers.l1(0.0001) )(hl) )\n",
    "\n",
    "    MTL=Model(inputs=inputs, outputs=hidden)\n",
    "    MTL.compile(loss=masked_loss_function, optimizer=keras.optimizers.adam(lr=0.0001))\n",
    "    return MTL\n",
    "\n",
    "def masked_loss_function(y_true, y_pred, MissingVal=10):\n",
    "    # This function masks the elements of the vectors with true/predicted values so that the model focuses\n",
    "    # only on the known data. By default, missing values are represented by 10\n",
    "    mask = K.cast(K.not_equal(y_true, MissingVal), K.floatx())\n",
    "    return keras.losses.mean_squared_error(y_true * mask, y_pred * mask)\n",
    "\n",
    "def MTL_Drop( wsl, whl, drop_rate=0.1, lr=0.001):\n",
    "    # a function that creates a NN with dropout incorporated after the first hidden layer\n",
    "    inputs = keras.Input(shape=(2048,))\n",
    "    sharedlayer = keras.layers.Dense(wsl, activation='tanh' )(inputs) \n",
    "    dropout= keras.layers.Dropout(drop_rate)(sharedlayer, training=True)\n",
    "    myinit = keras.initializers.Constant(-4.)\n",
    "    hidden = []\n",
    "    for i in range(len(Targets)):\n",
    "        hl = Dense(units=whl,  activation='tanh', kernel_regularizer=regularizers.l2(0.05) )(dropout)\n",
    "        hidden.append( Dense(1, kernel_initializer=myinit, activity_regularizer=regularizers.l1(0.0001) )(hl) )\n",
    "\n",
    "    MTL=Model(inputs=inputs, outputs=hidden)\n",
    "    MTL.compile(loss=masked_loss_function, optimizer=keras.optimizers.adam(lr=lr), )  #metrics=[masked_r2]\n",
    "    return MTL\n",
    "\n",
    "from scipy.stats import sem\n",
    "from scipy.stats import t as tstat\n",
    "\n",
    "def mulpredict(model, x_test, Ntargets, N=10, conf_flag=False):\n",
    "    preds = np.zeros( (N, Ntargets) )\n",
    "    for i in range(N):\n",
    "        preds[i,:] = [ x[0][0] for x in model.predict( x_test ) ]\n",
    "    if conf_flag:\n",
    "        std_err = sem(preds, axis=0)\n",
    "        h = std_err * tstat.ppf((1 + 0.95) / 2, len(preds) - 1)\n",
    "        return np.mean(preds, axis=0), h\n",
    "        # we need the column-wise average of this matrix\n",
    "    else:\n",
    "        return np.mean(preds, axis=0) \n",
    "\n",
    "def Evaluate(Inter_list, Comp_list, Model, Fingerprints, Ntar=110, Niter=10):\n",
    "    Predictions = []\n",
    "    Percomp = {} # contains dicts with lists: (target: [true, pred_NN] )\n",
    "    for test_case in Comp_list:\n",
    "        Percomp[ test_case ] = {}\n",
    "        for tokens in Inter_list:\n",
    "            if tokens[1]==test_case:\n",
    "                Percomp[test_case][ tokens[0] ] = [ tokens[2] ]\n",
    "        if len(Percomp[ test_case ])>0:\n",
    "            # we've got some values for this compound, now produce predictions:\n",
    "            preds = mulpredict(Model, np.array( Fingerprints[test_case]).reshape(1,-1), Ntar, Niter)\n",
    "            \n",
    "            for target in Percomp[test_case]: \n",
    "                Percomp[test_case][target].append( preds[Labels_Targ[target]])\n",
    "                Predictions.append( [target,test_case, Percomp[test_case][target][0], Percomp[test_case][target][1] ])\n",
    "\n",
    "        if len(Predictions) % 1000 == 0:\n",
    "            r2 = r2_score([x[2] for x in Predictions], [x[3] for x in Predictions])\n",
    "            print(f\"\\rMore than \", len(Predictions),\" pairs have been parsed. Mean performance so far =\",r2, end=\" \")\n",
    "    print(\" \")\n",
    "    r2 = r2_score([x[2] for x in Predictions], [x[3] for x in Predictions])\n",
    "    print(\"Performance for MTL-D NN = %f\" % r2)\n",
    "    return Predictions\n",
    "\n",
    "# Initialize sparse matrix - this will be binary\n",
    "DTI = 10*np.ones((nC,nT),dtype=float)\n",
    "\n",
    "for edge in Interactions_train:\n",
    "    # each edge has \"target-compound-value-active\"\n",
    "    DTI[ Labels_Comp[edge[1]], Labels_Targ[edge[0]] ] = edge[2]\n",
    "DTI.shape"
   ]
  },
  {
   "cell_type": "markdown",
   "metadata": {},
   "source": [
    "### 1. Fit MTL model"
   ]
  },
  {
   "cell_type": "code",
   "execution_count": null,
   "metadata": {},
   "outputs": [
    {
     "name": "stdout",
     "output_type": "stream",
     "text": [
      "300 20 0.05 40 64 0.0001\n",
      "WARNING:tensorflow:From /homes/kalantzi/.local/lib/python3.7/site-packages/keras/backend/tensorflow_backend.py:66: The name tf.get_default_graph is deprecated. Please use tf.compat.v1.get_default_graph instead.\n",
      "\n",
      "WARNING:tensorflow:From /homes/kalantzi/.local/lib/python3.7/site-packages/keras/backend/tensorflow_backend.py:541: The name tf.placeholder is deprecated. Please use tf.compat.v1.placeholder instead.\n",
      "\n",
      "WARNING:tensorflow:From /homes/kalantzi/.local/lib/python3.7/site-packages/keras/backend/tensorflow_backend.py:4432: The name tf.random_uniform is deprecated. Please use tf.random.uniform instead.\n",
      "\n",
      "WARNING:tensorflow:From /homes/kalantzi/.local/lib/python3.7/site-packages/keras/optimizers.py:793: The name tf.train.Optimizer is deprecated. Please use tf.compat.v1.train.Optimizer instead.\n",
      "\n",
      "WARNING:tensorflow:From /homes/kalantzi/.local/lib/python3.7/site-packages/keras/backend/tensorflow_backend.py:1033: The name tf.assign_add is deprecated. Please use tf.compat.v1.assign_add instead.\n",
      "\n",
      "WARNING:tensorflow:From /homes/kalantzi/.local/lib/python3.7/site-packages/keras/backend/tensorflow_backend.py:1020: The name tf.assign is deprecated. Please use tf.compat.v1.assign instead.\n",
      "\n"
     ]
    }
   ],
   "source": [
    "best_params = {'wsl': 300, 'whl': 20, 'lamda': 0.05}\n",
    "Nepochs = 40; BS=64; lr=0.0001\n",
    "wsl=best_params['wsl']; whl=best_params['whl']; lamda=best_params['lamda']\n",
    "print(wsl,whl,lamda,Nepochs,BS,lr)\n",
    "\n",
    "t0=time()\n",
    "MTLR = MTL(wsl=wsl, whl=whl, lamda=lamda,lr=lr )\n",
    "MTLR.fit( np.array([Fingerprints[x] for x in Compounds]), [x for x in DTI.T], epochs=Nepochs, batch_size=BS, verbose=0, use_multiprocessing=True )\n",
    "print(\"Training length with {0} epochs and BS={1} is {2}\".format(Nepochs, BS, time()-t0))\n",
    "\n",
    "Predictions_MTL = Evaluate( Interactions_valid, Compounds, MTL, Fingerprints)\n",
    "\n",
    "# print(\"R2 - accuracy for MTL NN = %f\" % r2_score([x[2] for x in Predictions], [x[3] for x in Predictions]) )\n",
    "print(\"MSE for MTL NN = %f\" % MSE([x[2] for x in Predictions_MTL], [x[3] for x in Predictions_MTL]) )"
   ]
  },
  {
   "cell_type": "markdown",
   "metadata": {},
   "source": [
    "### Fit MTL-D model"
   ]
  },
  {
   "cell_type": "code",
   "execution_count": null,
   "metadata": {},
   "outputs": [],
   "source": [
    "# max_mean={ 'wsl':200, 'whl':30, 'lamda':0.1}\n",
    "max_mean = best_params\n",
    "# Nepochs = 30; BS=64; lr=0.0001\n",
    "wsl=max_mean['wsl']; whl=max_mean['whl']; dr=max_mean['drop_rate']\n",
    "print(wsl,whl,dr,Nepochs,BS)\n",
    "\n",
    "# we assume that CV for model selection has already been performed!\n",
    "MTLD = MTL_Drop(wsl,whl,dr,0.0001)\n",
    "t0=time()\n",
    "MTLD.fit( np.array([Fingerprints[x] for x in Compounds]), [x for x in DTI.T], epochs=30, batch_size=64, verbose=0, use_multiprocessing=True )\n",
    "print(\"Duration for fitting = \", time()-t0)\n",
    "\n",
    "Predictions_MTLD = Evaluate( Interactions_valid, Compounds, MTLD, Fingerprints)\n",
    "print(\"MSE for MTLD = %f\" % MSE([x[2] for x in Predictions_MTLD], [x[3] for x in Predictions_MTLD]) )"
   ]
  },
  {
   "cell_type": "markdown",
   "metadata": {},
   "source": [
    "### Analysis"
   ]
  },
  {
   "cell_type": "code",
   "execution_count": null,
   "metadata": {},
   "outputs": [],
   "source": [
    "Y_true = [x[2] for x in Predictions]\n",
    "plt.plot( Y_true, [x[3] for x in Predictions], '.')\n",
    "plt.plot([min(Y_true),max(Y_true)], [min(Y_true),max(Y_true)])"
   ]
  },
  {
   "cell_type": "markdown",
   "metadata": {},
   "source": [
    "### per-target analysis"
   ]
  },
  {
   "cell_type": "code",
   "execution_count": null,
   "metadata": {
    "scrolled": true
   },
   "outputs": [],
   "source": [
    "Pertarget_MTL={}\n",
    "for tokens in Predictions:\n",
    "    if tokens[0] in Pertarget_MTL:\n",
    "        Pertarget_MTL[tokens[0]].append( (tokens[2], tokens[3])  )\n",
    "    else:\n",
    "        # first time for this protein\n",
    "        Pertarget_MTL[tokens[0]] = [ (tokens[2], tokens[3]) ]\n",
    "\n",
    "# Scores_MTL_pertarget = []; Sizes = []\n",
    "Pertarget_info = {}\n",
    "for target in Pertarget_MTL:\n",
    "    true=[]; pred=[]; \n",
    "    # aggregate predictions\n",
    "    for point in Pertarget_MTL[target]:\n",
    "        true.append( point[0] )\n",
    "        pred.append( point[1] )\n",
    "    \n",
    "    # calculate performance for each method\n",
    "    r2 = r2_score(true, pred)\n",
    "#     Scores_MTL_pertarget.append( r2 )\n",
    "#     print(len(true),'\\t',r2)\n",
    "#     Sizes.append(len(true))\n",
    "    Pertarget_info[target] = [len(true), r2, MSE(true, pred)]\n",
    "\n",
    "temp = [Pertarget_info[x][1] for x in Targets]\n",
    "print(\"Mean per target R2-score for RF = {0:.4f} and std = {1:.4f}\".format( np.mean(temp), np.std(temp) ))\n",
    "temp = [Pertarget_info[x][2] for x in Targets]\n",
    "print(\"Mean per target MSE for RF = {0:.4f} and std = {1:.4f}\".format( np.mean(temp), np.std(temp) ))\n",
    "# print(\"Mean per target R2-score for RF = {0:.4f} and std = {1:.4f}\".format( np.mean(Scores_MTL_pertarget), np.std(Scores_MTL_pertarget) ))"
   ]
  },
  {
   "cell_type": "code",
   "execution_count": null,
   "metadata": {},
   "outputs": [],
   "source": [
    "X = [Pertarget_info[x][0] for x in Pertarget_info]\n",
    "Y = [Pertarget_info[x][1] for x in Pertarget_info]\n",
    "ind =np.argsort(X)\n",
    "X = [X[i] for i in ind]\n",
    "\n",
    "plt.plot([Y[x] for x in ind])\n",
    "# plt.plot(Scores_MTL_pertarget ,'b', label='MTL')\n",
    "plt.axhline(np.mean(Scores_MTL_pertarget), color='b', linestyle='--', alpha=0.6)\n",
    "\n",
    "xi = [0,25,55,80,109]\n",
    "plt.xticks(xi, [X[t] for t in xi])\n",
    "plt.xlabel('Valid. set sizes per protein',fontsize=16)\n",
    "plt.ylabel('R2 score',fontsize=16)\n",
    "# plt.title(\"Validation Performance\")\n",
    "# plt.savefig(\"Valid-all.png\")\n",
    "plt.show()"
   ]
  },
  {
   "cell_type": "code",
   "execution_count": null,
   "metadata": {},
   "outputs": [],
   "source": [
    "np.mean( [Y[x] for x in ind[90:]] )"
   ]
  },
  {
   "cell_type": "code",
   "execution_count": null,
   "metadata": {},
   "outputs": [],
   "source": [
    "Sizes = [X[i] for i in ind]\n",
    "\n",
    "for t in range(110):\n",
    "    x = range(1550,1770,2)[t]\n",
    "    plt.figure()\n",
    "    plt.plot(Loss_history[combo]['dense_'+str(x)+'_loss'], label='Train')\n",
    "    plt.plot(Loss_history[combo]['val_dense_'+str(x)+'_loss'], label='Valid')\n",
    "    plt.plot([], [], ' ', label=\"Size: \"+str(Sizes[t]))\n",
    "    plt.legend(loc='upper right')\n",
    "    plt.xlabel('Epochs')\n",
    "    plt.ylabel('MSE')\n",
    "    plt.savefig(str(t)+'.png')"
   ]
  },
  {
   "cell_type": "code",
   "execution_count": null,
   "metadata": {},
   "outputs": [],
   "source": [
    "combo = (best_params['wsl'],best_params['whl'],best_params['lamda'])\n",
    "temp = Loss_history[combo]\n",
    "keys = list(Loss_history[combo])\n",
    "keys.remove('val_loss')\n",
    "keys.remove('loss')\n",
    "\n",
    "sum_t=np.zeros((40)); sum_v=np.zeros((40));\n",
    "for i in keys[110:]:\n",
    "    sum_t += temp[i]\n",
    "    sum_v += temp['val_'+i]\n",
    "\n",
    "# plt.plot(temp['dense_312_loss'],'.')\n",
    "# plt.plot(temp['val_dense_312_loss'],'.')\n",
    "plt.figure()\n",
    "plt.plot( sum_t/110, label='Train')\n",
    "plt.plot( sum_v/110, label='Valid')\n",
    "plt.xlabel('Epochs')\n",
    "plt.ylabel('MSE')\n",
    "plt.title( \"Overall fitting accuracy\")\n",
    "plt.show()"
   ]
  },
  {
   "cell_type": "code",
   "execution_count": null,
   "metadata": {},
   "outputs": [],
   "source": [
    "# New = {}\n",
    "# for combo in Loss_history.keys():\n",
    "#     New[combo] = np.mean(Loss_history[combo][-1][:110])\n",
    "#     print(combo,'\\t', np.mean(Loss_history[combo][-1][:110]))\n",
    "# # get the best parametrisation\n",
    "# i=0; max_mean = {}\n",
    "# for param in param_grid:\n",
    "#     best=100\n",
    "#     for val in param_grid[param]:\n",
    "#         estim = []\n",
    "#         for combo in New:\n",
    "#             if combo[i]==val:\n",
    "#                 estim.append( New[combo])\n",
    "#         print(param,'\\t',val,'\\t',np.mean(estim))\n",
    "#         if np.mean(estim)<best:\n",
    "#             best = np.mean(estim)\n",
    "#             max_mean[param] = val\n",
    "#     i+=1\n",
    "# print(max_mean)"
   ]
  },
  {
   "cell_type": "code",
   "execution_count": null,
   "metadata": {},
   "outputs": [],
   "source": [
    "# 400 30 0.1 50 128 0.0001\n",
    "# Training length with 50 epochs and BS=128 is 1400.9213240146637\n",
    "# Performance for MTL NN = 0.544737\n",
    "\n",
    "# 200 30 0.1 30 64 0.0001\n",
    "# Training length with 30 epochs and BS=64 is 1691.0650527477264\n",
    "# More than  11000  pairs have been parsed. Mean performance so far = 0.579429359526345   \n",
    "# Performance for MTL NN = 0.576385\n",
    "\n",
    "# 400 20 0.05 40 64 0.0001\n",
    "# Training length with 40 epochs and BS=64 is 1922.3810946941376\n",
    "# Performance for MTL NN = 0.565343\n",
    "\n",
    "# 300 20 0.05 40 64 0.0001\n",
    "# Training length with 40 epochs and BS=64 is 1932.7215404510498\n",
    "# Performance for MTL NN = 0.570459"
   ]
  }
 ],
 "metadata": {
  "kernelspec": {
   "display_name": "Python 3",
   "language": "python",
   "name": "python3"
  },
  "language_info": {
   "codemirror_mode": {
    "name": "ipython",
    "version": 3
   },
   "file_extension": ".py",
   "mimetype": "text/x-python",
   "name": "python",
   "nbconvert_exporter": "python",
   "pygments_lexer": "ipython3",
   "version": "3.7.4"
  }
 },
 "nbformat": 4,
 "nbformat_minor": 2
}
